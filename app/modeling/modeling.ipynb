{
 "cells": [
  {
   "cell_type": "code",
   "execution_count": 21,
   "metadata": {},
   "outputs": [],
   "source": [
    "import re\n",
    "import pandas as pd\n",
    "import seaborn as sns\n",
    "import pandas.api.types as ptypes\n",
    "import numpy as np\n",
    "import optuna\n",
    "from step import *\n",
    "import plotly\n",
    "from sklearn import ensemble\n",
    "from sklearn.pipeline import Pipeline\n",
    "from sklearn.model_selection import StratifiedShuffleSplit, cross_val_score, KFold"
   ]
  },
  {
   "cell_type": "code",
   "execution_count": 22,
   "metadata": {},
   "outputs": [],
   "source": [
    "df_alg = pd.read_csv(\"../../data/joao-pessoa-aluguel.csv\")\n",
    "df1 = pd.read_csv(\"../../data/joao_pessoa.csv\").drop(columns=[\"andar\"])\n",
    "df2 = pd.read_csv(\"../../data/joao_pessoa1.csv\") \\\n",
    "    .drop(columns=[\"z_lat\", \"z_lon\", \"bairro_completo\",\n",
    "                   \"comercio\", \"bairro\", \"zona\"]) \\\n",
    "    .transform(lambda x: x.apply(lambda y: float(y)) if ptypes.is_bool_dtype(x) else x)"
   ]
  },
  {
   "cell_type": "code",
   "execution_count": 23,
   "metadata": {},
   "outputs": [],
   "source": [
    "df3 = pd \\\n",
    "    .read_csv('../../data/aluguel_social_jp.csv', delimiter=';') \\\n",
    "    .query('`ANO DO PAGAMENTO` == 2023') \\\n",
    "    .dropna(subset=['BAIRRO']) \\\n",
    "    .rename(columns={'BAIRRO': 'bairro'}) \\\n",
    "    .assign(bairro=lambda x: x.bairro.str.strip().str.title()) \\\n",
    "    .replace(\n",
    "        {\n",
    "            r'M[AaNnGg]([a-zA-Z])*\\sI': 'Mangabeira I',\n",
    "            r'M[AaNnGg]([a-zA-Z])*\\sII': 'Mangabeira II',\n",
    "            r'M[AaNnGg]([a-zA-Z])*\\sIII': 'Mangabeira III',\n",
    "            r'M[AaNnGg]([a-zA-Z])*\\sIV': 'Mangabeira IV',\n",
    "            r'M[AaNnGg]([a-zA-Z])*\\sVii': 'Mangabeira IV',\n",
    "            'Mangabeira Iv': 'Mangabeira IV',\n",
    "            'Mangabeira Iii': 'Mangabeira III',\n",
    "            'Mangabeira Ii': 'Mangabeira II',\n",
    "            'Mangabeira Vi': 'Mangabeira VI',\n",
    "            'Mangabeira Vii': 'Mangabeira VII',\n",
    "            'Mangabeira Viii': 'Mangabeira VIII',\n",
    "            'Mangabeira, Viii': 'Mangabeira VIII',\n",
    "            'Mangabeira 8': 'Mangabeira VIII',\n",
    "            r'M[AaNnGg]([a-zA-Z])*': 'Mangabeira',\n",
    "            r'Varad([a-zA-Z]).*': 'Varadouro',\n",
    "            'Jd Veneza': 'Jardim Veneza',\n",
    "            'Jd Cidade Universitaria': 'Jardim Cidade Universitaria',\n",
    "            'Mangabeira \\( Aratu\\)': 'Mangabeira',\n",
    "            'Monsenhor Mangabeira': 'Mangabeira',\n",
    "            'Mangabeira 1': 'Mangabeira',\n",
    "            'Mangabeira \\(Aratu\\)': 'Mangabeira',\n",
    "            'Bairro Dos Estados': 'Estados',\n",
    "            'Mangabeira 6': 'Mangabeira VI',\n",
    "            'Cristo': 'Cristo Redentor',\n",
    "        },\n",
    "        regex=True\n",
    "    ) \\\n",
    "    .replace(\n",
    "        {\n",
    "            'Monsenhor Mangabeira': 'Mangabeira',\n",
    "            'Baixo Roger': 'Roger',\n",
    "            'Funcionarios 2': 'Funcionarios II a IV',\n",
    "            'Cristo Redentor Redentor': 'Cristo Redentor',\n",
    "            'Baixo Roger ( Vila Lula\\nLucena)': 'Roger',\n",
    "            'Collinas Do Sul': 'Colinas do Sul',\n",
    "            'Cidade Verde - Bairro Das Industrias': 'Bairro das Industrias',\n",
    "            'Cristo Redentor/Vale Das Palmeiras': 'Cristo Redentor',\n",
    "            'Biarro Das Industria': 'Bairro das Industrias',\n",
    "            'Altiplano 2': 'Altiplano',\n",
    "            'Dos Ipes': 'Bairro Dos Ipes',\n",
    "            'Aeroclube/Bessa': 'Aeroclube',\n",
    "            'Bairro Sao Jose': 'Sao Jose',\n",
    "            'B. Industrias': 'Bairro das Industrias',\n",
    "            'Industrias': 'Bairro das Industrias',\n",
    "            'B Das Industrias': 'Bairro das Industrias',\n",
    "            'Funcionarios Ii': 'Funcionarios II a IV',\n",
    "            'Bela Vista/Cristo Redentor': 'Cristo Redentor',\n",
    "            'Sao Jose/ Barreira': 'Sao Jose',\n",
    "            'B. Dos Estados': 'Estados',\n",
    "            '13 De Mangabeira': 'Mangabeira',\n",
    "            'Cristro Redentor': 'Cristo Redentor',\n",
    "            'Funcionario Iii': 'Funcionarios II a IV',\n",
    "            'Gervasio Mangabeira': 'Mangabeira',\n",
    "            'Ipes': 'Bairro Dos Ipes',\n",
    "            'B. Das Industrias': 'Bairro das Industrias',\n",
    "            'Joao Paulo Ii': 'Joao Paulo II',\n",
    "            'Padreze': 'Padre Ze',\n",
    "            'Valentina I': 'Valentina',\n",
    "            'B. Dos Novais': 'Bairro dos novais',\n",
    "            'Novais': 'Bairro dos novais',\n",
    "            'Treze De Mangabeira': 'Mangabeira',\n",
    "            'Estados': 'Bairro dos estados'\n",
    "        }\n",
    "    ) \\\n",
    "    .reset_index(drop=True)\n",
    "df3 = df3.replace({'Estados': 'bairro dos estados'})\n",
    "\n",
    "df3 = df3.assign(bairro=lambda x: x.bairro.str.lower().str.replace(' ', '_')) \\\n",
    "    .groupby(['bairro'], as_index=False).size() \\\n",
    "    .rename(columns={'size': 'qnt_beneficio'})"
   ]
  },
  {
   "cell_type": "code",
   "execution_count": 24,
   "metadata": {},
   "outputs": [],
   "source": [
    "def extract_location(address):\n",
    "    pattern_joao_pessoa = re.compile(r'(.+),\\s*João Pessoa$')\n",
    "    match_joao_pessoa = pattern_joao_pessoa.search(address)\n",
    "\n",
    "    if match_joao_pessoa:\n",
    "        return match_joao_pessoa.group(1).strip()\n",
    "\n",
    "    pattern_general = re.compile(r',\\s*([^,]+)$')\n",
    "    match_general = pattern_general.search(address)\n",
    "\n",
    "    if match_general:\n",
    "        return match_general.group(1).strip()\n",
    "\n",
    "    return None\n",
    "\n",
    "def clear_addr(x):\n",
    "    pattern = re.compile(r'[-,\\s]*(.*?)\\s*,?\\s*João Pessoa - PB')\n",
    "    extracted_parts = [pattern.search(address).group(1) if pattern.search(address) else None for address in x]\n",
    "\n",
    "    return [re.sub(r'^.* - ', '', address) for address in extracted_parts]\n",
    "\n",
    "df1 = df1 \\\n",
    "    .assign(\n",
    "        bairro=lambda x: clear_addr(x.endereco),\n",
    "        error=lambda x: list(map(lambda y: ('Rua' in y) or (y == ''), x.bairro.tolist())),\n",
    "    ) \\\n",
    "    .query('error == False') \\\n",
    "    .reset_index(drop=True) \\\n",
    "    .drop(columns=['error']) \\\n",
    "    .replace(\n",
    "        {\n",
    "            'Valentina Figueiredo': 'Valentina de Figueiredo',\n",
    "            'Jardim Treze de Maio': 'Jardim 13 de Maio'\n",
    "        }\n",
    "    )\n",
    "\n",
    "df2 = df2.assign(bairro=lambda x: [extract_location(address) for address in x.endereco])\n",
    "\n",
    "df_alg = df_alg \\\n",
    "    .assign(bairro=lambda x: clear_addr(x.endereco)) \\\n",
    "    .replace({\n",
    "        'Altiplano Cabo Branco': 'Altiplano',\n",
    "        'ipes': 'Bairro dos Ipes',\n",
    "        'Estados': 'Bairro dos estados',\n",
    "        'Jardim Treze de Maio': 'Jardim 13 de Maio',\n",
    "        'Ipês': 'Bairro dos Ipes'\n",
    "    })\n",
    "\n",
    "df_alg = df_alg \\\n",
    "    .assign(\n",
    "        bairro=lambda x: x.bairro.str.normalize('NFKD') \\\n",
    "            .str.encode('ascii', errors='ignore') \\\n",
    "            .str.decode('utf-8') \\\n",
    "            .str.lower() \\\n",
    "            .str.replace(' ', '_')\n",
    "    ) \\\n",
    "    .rename(\n",
    "        columns={\n",
    "            'area': 'area_aluguel',\n",
    "            'valor': 'valor_aluguel',\n",
    "            # 'vaga': 'vaga_aluguel',\n",
    "            # 'quarto': 'quarto_aluguel',\n",
    "            # 'banheiro': 'banheiro_aluguel'\n",
    "            }\n",
    "        ) \\\n",
    "    .groupby(['bairro'], as_index=False) \\\n",
    "    [['area_aluguel', 'valor_aluguel']] \\\n",
    "    .median()"
   ]
  },
  {
   "cell_type": "code",
   "execution_count": 25,
   "metadata": {},
   "outputs": [],
   "source": [
    "df = pd.concat([df1, df2]) \\\n",
    "    .drop_duplicates('id') \\\n",
    "    .reset_index(drop=True) \\\n",
    "    .drop(columns=['id', 'url']) \\\n",
    "    .query('bairro != \"Monsenhor Magno\"') \\\n",
    "    .replace(\n",
    "        {\n",
    "            'Altiplano Cabo Branco': 'Altiplano',\n",
    "            'Estados': 'Bairro dos estados',\n",
    "            'Ipês': 'Bairro dos ipes',\n",
    "            'Industrias': 'Bairro das Industrias',\n",
    "            'Cidade dos Funcionarios II': 'Funcionários II a IV',\n",
    "            'Cidade dos Colibris': 'Colibris',\n",
    "            'Conjunto Pedro Gondim': 'Pedro gondim',\n",
    "            'José Américo de Almeida': 'jose americo'\n",
    "        }\n",
    "    )\n",
    "\n",
    "df = df \\\n",
    "    .assign(bairro=lambda x: x.bairro.str.normalize('NFKD').str.encode('ascii', errors='ignore').str.decode('utf-8').str.replace(' ', '_').str.lower()) \\\n",
    "    .merge(df_alg, on='bairro', how='left') \\\n",
    "    .merge(df3, on='bairro', how='left') \\\n",
    "    .reset_index(drop=True)"
   ]
  },
  {
   "cell_type": "markdown",
   "metadata": {},
   "source": [
    "## Cleaning"
   ]
  },
  {
   "cell_type": "code",
   "execution_count": 26,
   "metadata": {},
   "outputs": [],
   "source": [
    "def remove_outliers_iqr(data, feature, threshold=1.5):\n",
    "    df = data.copy()\n",
    "    q1, q3 = np.percentile(df[feature],  [1, 99])\n",
    "    iqr = q3 - q1\n",
    "    upper_bound = q3 + threshold * iqr\n",
    "\n",
    "    removed_rows = df[df[feature] > upper_bound].index\n",
    "\n",
    "    if(feature == 'valor'):\n",
    "        df = df.drop(removed_rows, axis=0)\n",
    "        return df.query(\"valor >= 40000\").reset_index(drop=True)\n",
    "    else:\n",
    "        return df.drop(removed_rows, axis=0).reset_index(drop=True)\n"
   ]
  },
  {
   "cell_type": "code",
   "execution_count": 27,
   "metadata": {},
   "outputs": [],
   "source": [
    "df = df.fillna(\n",
    "    value={\n",
    "        \"academia\": 0, \"area_servico\": 0,\n",
    "        \"elevador\": 0, \"espaco_gourmet\": 0,\n",
    "        \"piscina\": 0, \"playground\": 0,\n",
    "        \"portaria_24_horas\": 0, \"quadra_de_esporte\": 0,\n",
    "        \"salao_de_festa\": 0, \"sauna\": 0,\n",
    "        \"spa\": 0, \"varanda_gourmet\": 0}\n",
    "    ) \\\n",
    "    .replace([\"flat\", \"terrenos_lotes_condominio\"],\n",
    "             [\"flats\", \"terrenos_lotes_e_condominios\"]) \\\n",
    "    .assign(\n",
    "        latitude_norm=lambda x: (x.latitude - x.latitude.mean()) / x.latitude.std(),\n",
    "        longitude_norm=lambda x: (x.longitude - x.longitude.mean()) / x.longitude.std(),\n",
    "    ) \\\n",
    "    .query(\"-2 < latitude_norm < 2\") \\\n",
    "    .query(\"-2 < longitude_norm < 2\") \\\n",
    "    .query(\"area < 150000 and area >= 20 and valor < 12_000_000 and valor > 40000\") \\\n",
    "    .query(\"tipo not in ['casas_de_vila', 'sobrados', 'coberturas']\") \\\n",
    "    .reset_index(drop=True) \\\n",
    "    .drop(columns=[\"longitude_norm\", \"latitude_norm\"])"
   ]
  },
  {
   "cell_type": "code",
   "execution_count": 28,
   "metadata": {},
   "outputs": [],
   "source": [
    "df = remove_outliers_iqr(\n",
    "    df.assign(\n",
    "        valor_area = df.valor * df.area\n",
    "        ),\n",
    "    \"valor_area\"\n",
    "    ) \\\n",
    "    .drop(columns=[\"valor_area\"])"
   ]
  },
  {
   "cell_type": "markdown",
   "metadata": {},
   "source": [
    "## Train and test dataset"
   ]
  },
  {
   "cell_type": "code",
   "execution_count": 29,
   "metadata": {},
   "outputs": [],
   "source": [
    "df['valor_cut'] = pd.cut(df['valor'],\n",
    "    bins=[0.,2e5, 4e5, 6e5, 8e5, np.inf],\n",
    "    labels=[1, 2, 3, 4, 5])\n",
    "\n",
    "split = StratifiedShuffleSplit(n_splits=20, test_size=0.2, random_state=42)\n",
    "for train_index, test_index in split.split(df, df.valor_cut):\n",
    "    train_df = df.loc[train_index]\n",
    "    test_df = df.loc[test_index]\n",
    "train_df = train_df.drop(columns=['valor_cut', 'endereco', 'bairro']).reset_index(drop=True)\n",
    "test_df = test_df.drop(columns=['valor_cut', 'endereco', 'bairro']).reset_index(drop=True)\n",
    "\n",
    "df.drop(columns=[\"valor_cut\"]).to_csv(\"../../data/cleaned/jp_limpo.csv\", index=False)\n",
    "train_df.to_csv(\"../../data/cleaned/train.csv\", index=False)\n",
    "test_df.to_csv(\"../../data/cleaned/test.csv\", index=False)"
   ]
  },
  {
   "cell_type": "markdown",
   "metadata": {},
   "source": [
    "## Missing values"
   ]
  },
  {
   "cell_type": "code",
   "execution_count": 14,
   "metadata": {},
   "outputs": [
    {
     "data": {
      "text/plain": [
       "<seaborn.axisgrid.FacetGrid at 0x773e7c1a3520>"
      ]
     },
     "execution_count": 14,
     "metadata": {},
     "output_type": "execute_result"
    },
    {
     "data": {
      "image/png": "[encoded data removed]",
      "text/plain": [
       "<Figure size 1030.5x800 with 1 Axes>"
      ]
     },
     "metadata": {},
     "output_type": "display_data"
    }
   ],
   "source": [
    "g_missing = sns.displot(\n",
    "    data=train_df.isnull() \\\n",
    "        .melt(value_name=\"Valores ausentes\") \\\n",
    "        .replace([False, True], [\"Não é ausente\", \"Ausente\"]) \\\n",
    "        .groupby([\"variable\", \"Valores ausentes\"]).size() \\\n",
    "        .reset_index(name=\"count\") \\\n",
    "        .assign(\n",
    "            proportion=lambda x: x.groupby(\"variable\")[\"count\"].transform(lambda y: y / y.sum())\n",
    "        ),\n",
    "    y=\"variable\",\n",
    "    hue=\"Valores ausentes\",\n",
    "    weights=\"proportion\",\n",
    "    multiple=\"fill\",\n",
    "    height=8,\n",
    "    aspect=1.1,\n",
    "    palette={\"Não é ausente\": \"#f9a602\", \"Ausente\": \"gray\"}\n",
    "    )\n",
    "\n",
    "sns.move_legend(obj=g_missing, loc=\"upper center\",\n",
    "                bbox_to_anchor=(.5, -.0001), ncol=2, title=\"\")\n",
    "g_missing.set(xlabel=\"Proporção de valores ausentes (%)\", ylabel=\"\")"
   ]
  },
  {
   "cell_type": "markdown",
   "metadata": {},
   "source": [
    "## Modeling "
   ]
  },
  {
   "cell_type": "code",
   "execution_count": 15,
   "metadata": {},
   "outputs": [],
   "source": [
    "train_df = train_df.assign(valor=lambda x: np.log1p(x.valor))\n",
    "test_df = test_df.assign(valor=lambda x: np.log1p(x.valor))"
   ]
  },
  {
   "cell_type": "code",
   "execution_count": 12,
   "metadata": {},
   "outputs": [
    {
     "data": {
      "text/html": [
       "<style>#sk-container-id-1 {\n",
       "  /* Definition of color scheme common for light and dark mode */\n",
       "  --sklearn-color-text: black;\n",
       "  --sklearn-color-line: gray;\n",
       "  /* Definition of color scheme for unfitted estimators */\n",
       "  --sklearn-color-unfitted-level-0: #fff5e6;\n",
       "  --sklearn-color-unfitted-level-1: #f6e4d2;\n",
       "  --sklearn-color-unfitted-level-2: #ffe0b3;\n",
       "  --sklearn-color-unfitted-level-3: chocolate;\n",
       "  /* Definition of color scheme for fitted estimators */\n",
       "  --sklearn-color-fitted-level-0: #f0f8ff;\n",
       "  --sklearn-color-fitted-level-1: #d4ebff;\n",
       "  --sklearn-color-fitted-level-2: #b3dbfd;\n",
       "  --sklearn-color-fitted-level-3: cornflowerblue;\n",
       "\n",
       "  /* Specific color for light theme */\n",
       "  --sklearn-color-text-on-default-background: var(--sg-text-color, var(--theme-code-foreground, var(--jp-content-font-color1, black)));\n",
       "  --sklearn-color-background: var(--sg-background-color, var(--theme-background, var(--jp-layout-color0, white)));\n",
       "  --sklearn-color-border-box: var(--sg-text-color, var(--theme-code-foreground, var(--jp-content-font-color1, black)));\n",
       "  --sklearn-color-icon: #696969;\n",
       "\n",
       "  @media (prefers-color-scheme: dark) {\n",
       "    /* Redefinition of color scheme for dark theme */\n",
       "    --sklearn-color-text-on-default-background: var(--sg-text-color, var(--theme-code-foreground, var(--jp-content-font-color1, white)));\n",
       "    --sklearn-color-background: var(--sg-background-color, var(--theme-background, var(--jp-layout-color0, #111)));\n",
       "    --sklearn-color-border-box: var(--sg-text-color, var(--theme-code-foreground, var(--jp-content-font-color1, white)));\n",
       "    --sklearn-color-icon: #878787;\n",
       "  }\n",
       "}\n",
       "\n",
       "#sk-container-id-1 {\n",
       "  color: var(--sklearn-color-text);\n",
       "}\n",
       "\n",
       "#sk-container-id-1 pre {\n",
       "  padding: 0;\n",
       "}\n",
       "\n",
       "#sk-container-id-1 input.sk-hidden--visually {\n",
       "  border: 0;\n",
       "  clip: rect(1px 1px 1px 1px);\n",
       "  clip: rect(1px, 1px, 1px, 1px);\n",
       "  height: 1px;\n",
       "  margin: -1px;\n",
       "  overflow: hidden;\n",
       "  padding: 0;\n",
       "  position: absolute;\n",
       "  width: 1px;\n",
       "}\n",
       "\n",
       "#sk-container-id-1 div.sk-dashed-wrapped {\n",
       "  border: 1px dashed var(--sklearn-color-line);\n",
       "  margin: 0 0.4em 0.5em 0.4em;\n",
       "  box-sizing: border-box;\n",
       "  padding-bottom: 0.4em;\n",
       "  background-color: var(--sklearn-color-background);\n",
       "}\n",
       "\n",
       "#sk-container-id-1 div.sk-container {\n",
       "  /* jupyter's `normalize.less` sets `[hidden] { display: none; }`\n",
       "     but bootstrap.min.css set `[hidden] { display: none !important; }`\n",
       "     so we also need the `!important` here to be able to override the\n",
       "     default hidden behavior on the sphinx rendered scikit-learn.org.\n",
       "     See: https://github.com/scikit-learn/scikit-learn/issues/21755 */\n",
       "  display: inline-block !important;\n",
       "  position: relative;\n",
       "}\n",
       "\n",
       "#sk-container-id-1 div.sk-text-repr-fallback {\n",
       "  display: none;\n",
       "}\n",
       "\n",
       "div.sk-parallel-item,\n",
       "div.sk-serial,\n",
       "div.sk-item {\n",
       "  /* draw centered vertical line to link estimators */\n",
       "  background-image: linear-gradient(var(--sklearn-color-text-on-default-background), var(--sklearn-color-text-on-default-background));\n",
       "  background-size: 2px 100%;\n",
       "  background-repeat: no-repeat;\n",
       "  background-position: center center;\n",
       "}\n",
       "\n",
       "/* Parallel-specific style estimator block */\n",
       "\n",
       "#sk-container-id-1 div.sk-parallel-item::after {\n",
       "  content: \"\";\n",
       "  width: 100%;\n",
       "  border-bottom: 2px solid var(--sklearn-color-text-on-default-background);\n",
       "  flex-grow: 1;\n",
       "}\n",
       "\n",
       "#sk-container-id-1 div.sk-parallel {\n",
       "  display: flex;\n",
       "  align-items: stretch;\n",
       "  justify-content: center;\n",
       "  background-color: var(--sklearn-color-background);\n",
       "  position: relative;\n",
       "}\n",
       "\n",
       "#sk-container-id-1 div.sk-parallel-item {\n",
       "  display: flex;\n",
       "  flex-direction: column;\n",
       "}\n",
       "\n",
       "#sk-container-id-1 div.sk-parallel-item:first-child::after {\n",
       "  align-self: flex-end;\n",
       "  width: 50%;\n",
       "}\n",
       "\n",
       "#sk-container-id-1 div.sk-parallel-item:last-child::after {\n",
       "  align-self: flex-start;\n",
       "  width: 50%;\n",
       "}\n",
       "\n",
       "#sk-container-id-1 div.sk-parallel-item:only-child::after {\n",
       "  width: 0;\n",
       "}\n",
       "\n",
       "/* Serial-specific style estimator block */\n",
       "\n",
       "#sk-container-id-1 div.sk-serial {\n",
       "  display: flex;\n",
       "  flex-direction: column;\n",
       "  align-items: center;\n",
       "  background-color: var(--sklearn-color-background);\n",
       "  padding-right: 1em;\n",
       "  padding-left: 1em;\n",
       "}\n",
       "\n",
       "\n",
       "/* Toggleable style: style used for estimator/Pipeline/ColumnTransformer box that is\n",
       "clickable and can be expanded/collapsed.\n",
       "- Pipeline and ColumnTransformer use this feature and define the default style\n",
       "- Estimators will overwrite some part of the style using the `sk-estimator` class\n",
       "*/\n",
       "\n",
       "/* Pipeline and ColumnTransformer style (default) */\n",
       "\n",
       "#sk-container-id-1 div.sk-toggleable {\n",
       "  /* Default theme specific background. It is overwritten whether we have a\n",
       "  specific estimator or a Pipeline/ColumnTransformer */\n",
       "  background-color: var(--sklearn-color-background);\n",
       "}\n",
       "\n",
       "/* Toggleable label */\n",
       "#sk-container-id-1 label.sk-toggleable__label {\n",
       "  cursor: pointer;\n",
       "  display: block;\n",
       "  width: 100%;\n",
       "  margin-bottom: 0;\n",
       "  padding: 0.5em;\n",
       "  box-sizing: border-box;\n",
       "  text-align: center;\n",
       "}\n",
       "\n",
       "#sk-container-id-1 label.sk-toggleable__label-arrow:before {\n",
       "  /* Arrow on the left of the label */\n",
       "  content: \"▸\";\n",
       "  float: left;\n",
       "  margin-right: 0.25em;\n",
       "  color: var(--sklearn-color-icon);\n",
       "}\n",
       "\n",
       "#sk-container-id-1 label.sk-toggleable__label-arrow:hover:before {\n",
       "  color: var(--sklearn-color-text);\n",
       "}\n",
       "\n",
       "/* Toggleable content - dropdown */\n",
       "\n",
       "#sk-container-id-1 div.sk-toggleable__content {\n",
       "  max-height: 0;\n",
       "  max-width: 0;\n",
       "  overflow: hidden;\n",
       "  text-align: left;\n",
       "  /* unfitted */\n",
       "  background-color: var(--sklearn-color-unfitted-level-0);\n",
       "}\n",
       "\n",
       "#sk-container-id-1 div.sk-toggleable__content.fitted {\n",
       "  /* fitted */\n",
       "  background-color: var(--sklearn-color-fitted-level-0);\n",
       "}\n",
       "\n",
       "#sk-container-id-1 div.sk-toggleable__content pre {\n",
       "  margin: 0.2em;\n",
       "  border-radius: 0.25em;\n",
       "  color: var(--sklearn-color-text);\n",
       "  /* unfitted */\n",
       "  background-color: var(--sklearn-color-unfitted-level-0);\n",
       "}\n",
       "\n",
       "#sk-container-id-1 div.sk-toggleable__content.fitted pre {\n",
       "  /* unfitted */\n",
       "  background-color: var(--sklearn-color-fitted-level-0);\n",
       "}\n",
       "\n",
       "#sk-container-id-1 input.sk-toggleable__control:checked~div.sk-toggleable__content {\n",
       "  /* Expand drop-down */\n",
       "  max-height: 200px;\n",
       "  max-width: 100%;\n",
       "  overflow: auto;\n",
       "}\n",
       "\n",
       "#sk-container-id-1 input.sk-toggleable__control:checked~label.sk-toggleable__label-arrow:before {\n",
       "  content: \"▾\";\n",
       "}\n",
       "\n",
       "/* Pipeline/ColumnTransformer-specific style */\n",
       "\n",
       "#sk-container-id-1 div.sk-label input.sk-toggleable__control:checked~label.sk-toggleable__label {\n",
       "  color: var(--sklearn-color-text);\n",
       "  background-color: var(--sklearn-color-unfitted-level-2);\n",
       "}\n",
       "\n",
       "#sk-container-id-1 div.sk-label.fitted input.sk-toggleable__control:checked~label.sk-toggleable__label {\n",
       "  background-color: var(--sklearn-color-fitted-level-2);\n",
       "}\n",
       "\n",
       "/* Estimator-specific style */\n",
       "\n",
       "/* Colorize estimator box */\n",
       "#sk-container-id-1 div.sk-estimator input.sk-toggleable__control:checked~label.sk-toggleable__label {\n",
       "  /* unfitted */\n",
       "  background-color: var(--sklearn-color-unfitted-level-2);\n",
       "}\n",
       "\n",
       "#sk-container-id-1 div.sk-estimator.fitted input.sk-toggleable__control:checked~label.sk-toggleable__label {\n",
       "  /* fitted */\n",
       "  background-color: var(--sklearn-color-fitted-level-2);\n",
       "}\n",
       "\n",
       "#sk-container-id-1 div.sk-label label.sk-toggleable__label,\n",
       "#sk-container-id-1 div.sk-label label {\n",
       "  /* The background is the default theme color */\n",
       "  color: var(--sklearn-color-text-on-default-background);\n",
       "}\n",
       "\n",
       "/* On hover, darken the color of the background */\n",
       "#sk-container-id-1 div.sk-label:hover label.sk-toggleable__label {\n",
       "  color: var(--sklearn-color-text);\n",
       "  background-color: var(--sklearn-color-unfitted-level-2);\n",
       "}\n",
       "\n",
       "/* Label box, darken color on hover, fitted */\n",
       "#sk-container-id-1 div.sk-label.fitted:hover label.sk-toggleable__label.fitted {\n",
       "  color: var(--sklearn-color-text);\n",
       "  background-color: var(--sklearn-color-fitted-level-2);\n",
       "}\n",
       "\n",
       "/* Estimator label */\n",
       "\n",
       "#sk-container-id-1 div.sk-label label {\n",
       "  font-family: monospace;\n",
       "  font-weight: bold;\n",
       "  display: inline-block;\n",
       "  line-height: 1.2em;\n",
       "}\n",
       "\n",
       "#sk-container-id-1 div.sk-label-container {\n",
       "  text-align: center;\n",
       "}\n",
       "\n",
       "/* Estimator-specific */\n",
       "#sk-container-id-1 div.sk-estimator {\n",
       "  font-family: monospace;\n",
       "  border: 1px dotted var(--sklearn-color-border-box);\n",
       "  border-radius: 0.25em;\n",
       "  box-sizing: border-box;\n",
       "  margin-bottom: 0.5em;\n",
       "  /* unfitted */\n",
       "  background-color: var(--sklearn-color-unfitted-level-0);\n",
       "}\n",
       "\n",
       "#sk-container-id-1 div.sk-estimator.fitted {\n",
       "  /* fitted */\n",
       "  background-color: var(--sklearn-color-fitted-level-0);\n",
       "}\n",
       "\n",
       "/* on hover */\n",
       "#sk-container-id-1 div.sk-estimator:hover {\n",
       "  /* unfitted */\n",
       "  background-color: var(--sklearn-color-unfitted-level-2);\n",
       "}\n",
       "\n",
       "#sk-container-id-1 div.sk-estimator.fitted:hover {\n",
       "  /* fitted */\n",
       "  background-color: var(--sklearn-color-fitted-level-2);\n",
       "}\n",
       "\n",
       "/* Specification for estimator info (e.g. \"i\" and \"?\") */\n",
       "\n",
       "/* Common style for \"i\" and \"?\" */\n",
       "\n",
       ".sk-estimator-doc-link,\n",
       "a:link.sk-estimator-doc-link,\n",
       "a:visited.sk-estimator-doc-link {\n",
       "  float: right;\n",
       "  font-size: smaller;\n",
       "  line-height: 1em;\n",
       "  font-family: monospace;\n",
       "  background-color: var(--sklearn-color-background);\n",
       "  border-radius: 1em;\n",
       "  height: 1em;\n",
       "  width: 1em;\n",
       "  text-decoration: none !important;\n",
       "  margin-left: 1ex;\n",
       "  /* unfitted */\n",
       "  border: var(--sklearn-color-unfitted-level-1) 1pt solid;\n",
       "  color: var(--sklearn-color-unfitted-level-1);\n",
       "}\n",
       "\n",
       ".sk-estimator-doc-link.fitted,\n",
       "a:link.sk-estimator-doc-link.fitted,\n",
       "a:visited.sk-estimator-doc-link.fitted {\n",
       "  /* fitted */\n",
       "  border: var(--sklearn-color-fitted-level-1) 1pt solid;\n",
       "  color: var(--sklearn-color-fitted-level-1);\n",
       "}\n",
       "\n",
       "/* On hover */\n",
       "div.sk-estimator:hover .sk-estimator-doc-link:hover,\n",
       ".sk-estimator-doc-link:hover,\n",
       "div.sk-label-container:hover .sk-estimator-doc-link:hover,\n",
       ".sk-estimator-doc-link:hover {\n",
       "  /* unfitted */\n",
       "  background-color: var(--sklearn-color-unfitted-level-3);\n",
       "  color: var(--sklearn-color-background);\n",
       "  text-decoration: none;\n",
       "}\n",
       "\n",
       "div.sk-estimator.fitted:hover .sk-estimator-doc-link.fitted:hover,\n",
       ".sk-estimator-doc-link.fitted:hover,\n",
       "div.sk-label-container:hover .sk-estimator-doc-link.fitted:hover,\n",
       ".sk-estimator-doc-link.fitted:hover {\n",
       "  /* fitted */\n",
       "  background-color: var(--sklearn-color-fitted-level-3);\n",
       "  color: var(--sklearn-color-background);\n",
       "  text-decoration: none;\n",
       "}\n",
       "\n",
       "/* Span, style for the box shown on hovering the info icon */\n",
       ".sk-estimator-doc-link span {\n",
       "  display: none;\n",
       "  z-index: 9999;\n",
       "  position: relative;\n",
       "  font-weight: normal;\n",
       "  right: .2ex;\n",
       "  padding: .5ex;\n",
       "  margin: .5ex;\n",
       "  width: min-content;\n",
       "  min-width: 20ex;\n",
       "  max-width: 50ex;\n",
       "  color: var(--sklearn-color-text);\n",
       "  box-shadow: 2pt 2pt 4pt #999;\n",
       "  /* unfitted */\n",
       "  background: var(--sklearn-color-unfitted-level-0);\n",
       "  border: .5pt solid var(--sklearn-color-unfitted-level-3);\n",
       "}\n",
       "\n",
       ".sk-estimator-doc-link.fitted span {\n",
       "  /* fitted */\n",
       "  background: var(--sklearn-color-fitted-level-0);\n",
       "  border: var(--sklearn-color-fitted-level-3);\n",
       "}\n",
       "\n",
       ".sk-estimator-doc-link:hover span {\n",
       "  display: block;\n",
       "}\n",
       "\n",
       "/* \"?\"-specific style due to the `<a>` HTML tag */\n",
       "\n",
       "#sk-container-id-1 a.estimator_doc_link {\n",
       "  float: right;\n",
       "  font-size: 1rem;\n",
       "  line-height: 1em;\n",
       "  font-family: monospace;\n",
       "  background-color: var(--sklearn-color-background);\n",
       "  border-radius: 1rem;\n",
       "  height: 1rem;\n",
       "  width: 1rem;\n",
       "  text-decoration: none;\n",
       "  /* unfitted */\n",
       "  color: var(--sklearn-color-unfitted-level-1);\n",
       "  border: var(--sklearn-color-unfitted-level-1) 1pt solid;\n",
       "}\n",
       "\n",
       "#sk-container-id-1 a.estimator_doc_link.fitted {\n",
       "  /* fitted */\n",
       "  border: var(--sklearn-color-fitted-level-1) 1pt solid;\n",
       "  color: var(--sklearn-color-fitted-level-1);\n",
       "}\n",
       "\n",
       "/* On hover */\n",
       "#sk-container-id-1 a.estimator_doc_link:hover {\n",
       "  /* unfitted */\n",
       "  background-color: var(--sklearn-color-unfitted-level-3);\n",
       "  color: var(--sklearn-color-background);\n",
       "  text-decoration: none;\n",
       "}\n",
       "\n",
       "#sk-container-id-1 a.estimator_doc_link.fitted:hover {\n",
       "  /* fitted */\n",
       "  background-color: var(--sklearn-color-fitted-level-3);\n",
       "}\n",
       "</style><div id=\"sk-container-id-1\" class=\"sk-top-container\"><div class=\"sk-text-repr-fallback\"><pre>Pipeline(steps=[(&#x27;imputer&#x27;, Imputer()), (&#x27;engineering&#x27;, BedAreaBedToi()),\n",
       "                (&#x27;ordinal_encoder&#x27;, OrdEncoder()),\n",
       "                (&#x27;onehot_encoder&#x27;, OneEncoder()),\n",
       "                (&#x27;log_transform&#x27;, LogTransform())])</pre><b>In a Jupyter environment, please rerun this cell to show the HTML representation or trust the notebook. <br />On GitHub, the HTML representation is unable to render, please try loading this page with nbviewer.org.</b></div><div class=\"sk-container\" hidden><div class=\"sk-item sk-dashed-wrapped\"><div class=\"sk-label-container\"><div class=\"sk-label  sk-toggleable\"><input class=\"sk-toggleable__control sk-hidden--visually\" id=\"sk-estimator-id-1\" type=\"checkbox\" ><label for=\"sk-estimator-id-1\" class=\"sk-toggleable__label  sk-toggleable__label-arrow \">&nbsp;&nbsp;Pipeline<a class=\"sk-estimator-doc-link \" rel=\"noreferrer\" target=\"_blank\" href=\"https://scikit-learn.org/1.5/modules/generated/sklearn.pipeline.Pipeline.html\">?<span>Documentation for Pipeline</span></a><span class=\"sk-estimator-doc-link \">i<span>Not fitted</span></span></label><div class=\"sk-toggleable__content \"><pre>Pipeline(steps=[(&#x27;imputer&#x27;, Imputer()), (&#x27;engineering&#x27;, BedAreaBedToi()),\n",
       "                (&#x27;ordinal_encoder&#x27;, OrdEncoder()),\n",
       "                (&#x27;onehot_encoder&#x27;, OneEncoder()),\n",
       "                (&#x27;log_transform&#x27;, LogTransform())])</pre></div> </div></div><div class=\"sk-serial\"><div class=\"sk-item\"><div class=\"sk-estimator  sk-toggleable\"><input class=\"sk-toggleable__control sk-hidden--visually\" id=\"sk-estimator-id-2\" type=\"checkbox\" ><label for=\"sk-estimator-id-2\" class=\"sk-toggleable__label  sk-toggleable__label-arrow \">Imputer</label><div class=\"sk-toggleable__content \"><pre>Imputer()</pre></div> </div></div><div class=\"sk-item\"><div class=\"sk-estimator  sk-toggleable\"><input class=\"sk-toggleable__control sk-hidden--visually\" id=\"sk-estimator-id-3\" type=\"checkbox\" ><label for=\"sk-estimator-id-3\" class=\"sk-toggleable__label  sk-toggleable__label-arrow \">BedAreaBedToi</label><div class=\"sk-toggleable__content \"><pre>BedAreaBedToi()</pre></div> </div></div><div class=\"sk-item\"><div class=\"sk-estimator  sk-toggleable\"><input class=\"sk-toggleable__control sk-hidden--visually\" id=\"sk-estimator-id-4\" type=\"checkbox\" ><label for=\"sk-estimator-id-4\" class=\"sk-toggleable__label  sk-toggleable__label-arrow \">OrdEncoder</label><div class=\"sk-toggleable__content \"><pre>OrdEncoder()</pre></div> </div></div><div class=\"sk-item\"><div class=\"sk-estimator  sk-toggleable\"><input class=\"sk-toggleable__control sk-hidden--visually\" id=\"sk-estimator-id-5\" type=\"checkbox\" ><label for=\"sk-estimator-id-5\" class=\"sk-toggleable__label  sk-toggleable__label-arrow \">OneEncoder</label><div class=\"sk-toggleable__content \"><pre>OneEncoder()</pre></div> </div></div><div class=\"sk-item\"><div class=\"sk-estimator  sk-toggleable\"><input class=\"sk-toggleable__control sk-hidden--visually\" id=\"sk-estimator-id-6\" type=\"checkbox\" ><label for=\"sk-estimator-id-6\" class=\"sk-toggleable__label  sk-toggleable__label-arrow \">LogTransform</label><div class=\"sk-toggleable__content \"><pre>LogTransform()</pre></div> </div></div></div></div></div></div>"
      ],
      "text/plain": [
       "Pipeline(steps=[('imputer', Imputer()), ('engineering', BedAreaBedToi()),\n",
       "                ('ordinal_encoder', OrdEncoder()),\n",
       "                ('onehot_encoder', OneEncoder()),\n",
       "                ('log_transform', LogTransform())])"
      ]
     },
     "execution_count": 12,
     "metadata": {},
     "output_type": "execute_result"
    }
   ],
   "source": [
    "pipe_jp = Pipeline(\n",
    "    [(\"imputer\", Imputer()),\n",
    "     (\"engineering\", BedAreaBedToi()),\n",
    "     (\"ordinal_encoder\", OrdEncoder()),\n",
    "     (\"onehot_encoder\", OneEncoder()),\n",
    "     (\"log_transform\", LogTransform()),\n",
    "    #  (\"yeo-transform\", YeoTransform()),\n",
    "    #  (\"scaling\", Scale()),\n",
    "    #  (\"interpolate\", Interpolate())\n",
    "    ])\n",
    "pipe_jp.fit(train_df)"
   ]
  },
  {
   "cell_type": "code",
   "execution_count": 13,
   "metadata": {},
   "outputs": [],
   "source": [
    "train_df = pipe_jp.transform(train_df)\n",
    "test_df = pipe_jp.transform(test_df)"
   ]
  },
  {
   "cell_type": "code",
   "execution_count": 30,
   "metadata": {},
   "outputs": [],
   "source": [
    "forest = ensemble.RandomForestRegressor(\n",
    "    n_estimators=1200,\n",
    "    random_state=42,\n",
    "    max_depth=50,\n",
    "    max_features=\"sqrt\",\n",
    "    n_jobs=1)"
   ]
  },
  {
   "cell_type": "code",
   "execution_count": 31,
   "metadata": {},
   "outputs": [
    {
     "data": {
      "text/html": [
       "<style>#sk-container-id-7 {\n",
       "  /* Definition of color scheme common for light and dark mode */\n",
       "  --sklearn-color-text: black;\n",
       "  --sklearn-color-line: gray;\n",
       "  /* Definition of color scheme for unfitted estimators */\n",
       "  --sklearn-color-unfitted-level-0: #fff5e6;\n",
       "  --sklearn-color-unfitted-level-1: #f6e4d2;\n",
       "  --sklearn-color-unfitted-level-2: #ffe0b3;\n",
       "  --sklearn-color-unfitted-level-3: chocolate;\n",
       "  /* Definition of color scheme for fitted estimators */\n",
       "  --sklearn-color-fitted-level-0: #f0f8ff;\n",
       "  --sklearn-color-fitted-level-1: #d4ebff;\n",
       "  --sklearn-color-fitted-level-2: #b3dbfd;\n",
       "  --sklearn-color-fitted-level-3: cornflowerblue;\n",
       "\n",
       "  /* Specific color for light theme */\n",
       "  --sklearn-color-text-on-default-background: var(--sg-text-color, var(--theme-code-foreground, var(--jp-content-font-color1, black)));\n",
       "  --sklearn-color-background: var(--sg-background-color, var(--theme-background, var(--jp-layout-color0, white)));\n",
       "  --sklearn-color-border-box: var(--sg-text-color, var(--theme-code-foreground, var(--jp-content-font-color1, black)));\n",
       "  --sklearn-color-icon: #696969;\n",
       "\n",
       "  @media (prefers-color-scheme: dark) {\n",
       "    /* Redefinition of color scheme for dark theme */\n",
       "    --sklearn-color-text-on-default-background: var(--sg-text-color, var(--theme-code-foreground, var(--jp-content-font-color1, white)));\n",
       "    --sklearn-color-background: var(--sg-background-color, var(--theme-background, var(--jp-layout-color0, #111)));\n",
       "    --sklearn-color-border-box: var(--sg-text-color, var(--theme-code-foreground, var(--jp-content-font-color1, white)));\n",
       "    --sklearn-color-icon: #878787;\n",
       "  }\n",
       "}\n",
       "\n",
       "#sk-container-id-7 {\n",
       "  color: var(--sklearn-color-text);\n",
       "}\n",
       "\n",
       "#sk-container-id-7 pre {\n",
       "  padding: 0;\n",
       "}\n",
       "\n",
       "#sk-container-id-7 input.sk-hidden--visually {\n",
       "  border: 0;\n",
       "  clip: rect(1px 1px 1px 1px);\n",
       "  clip: rect(1px, 1px, 1px, 1px);\n",
       "  height: 1px;\n",
       "  margin: -1px;\n",
       "  overflow: hidden;\n",
       "  padding: 0;\n",
       "  position: absolute;\n",
       "  width: 1px;\n",
       "}\n",
       "\n",
       "#sk-container-id-7 div.sk-dashed-wrapped {\n",
       "  border: 1px dashed var(--sklearn-color-line);\n",
       "  margin: 0 0.4em 0.5em 0.4em;\n",
       "  box-sizing: border-box;\n",
       "  padding-bottom: 0.4em;\n",
       "  background-color: var(--sklearn-color-background);\n",
       "}\n",
       "\n",
       "#sk-container-id-7 div.sk-container {\n",
       "  /* jupyter's `normalize.less` sets `[hidden] { display: none; }`\n",
       "     but bootstrap.min.css set `[hidden] { display: none !important; }`\n",
       "     so we also need the `!important` here to be able to override the\n",
       "     default hidden behavior on the sphinx rendered scikit-learn.org.\n",
       "     See: https://github.com/scikit-learn/scikit-learn/issues/21755 */\n",
       "  display: inline-block !important;\n",
       "  position: relative;\n",
       "}\n",
       "\n",
       "#sk-container-id-7 div.sk-text-repr-fallback {\n",
       "  display: none;\n",
       "}\n",
       "\n",
       "div.sk-parallel-item,\n",
       "div.sk-serial,\n",
       "div.sk-item {\n",
       "  /* draw centered vertical line to link estimators */\n",
       "  background-image: linear-gradient(var(--sklearn-color-text-on-default-background), var(--sklearn-color-text-on-default-background));\n",
       "  background-size: 2px 100%;\n",
       "  background-repeat: no-repeat;\n",
       "  background-position: center center;\n",
       "}\n",
       "\n",
       "/* Parallel-specific style estimator block */\n",
       "\n",
       "#sk-container-id-7 div.sk-parallel-item::after {\n",
       "  content: \"\";\n",
       "  width: 100%;\n",
       "  border-bottom: 2px solid var(--sklearn-color-text-on-default-background);\n",
       "  flex-grow: 1;\n",
       "}\n",
       "\n",
       "#sk-container-id-7 div.sk-parallel {\n",
       "  display: flex;\n",
       "  align-items: stretch;\n",
       "  justify-content: center;\n",
       "  background-color: var(--sklearn-color-background);\n",
       "  position: relative;\n",
       "}\n",
       "\n",
       "#sk-container-id-7 div.sk-parallel-item {\n",
       "  display: flex;\n",
       "  flex-direction: column;\n",
       "}\n",
       "\n",
       "#sk-container-id-7 div.sk-parallel-item:first-child::after {\n",
       "  align-self: flex-end;\n",
       "  width: 50%;\n",
       "}\n",
       "\n",
       "#sk-container-id-7 div.sk-parallel-item:last-child::after {\n",
       "  align-self: flex-start;\n",
       "  width: 50%;\n",
       "}\n",
       "\n",
       "#sk-container-id-7 div.sk-parallel-item:only-child::after {\n",
       "  width: 0;\n",
       "}\n",
       "\n",
       "/* Serial-specific style estimator block */\n",
       "\n",
       "#sk-container-id-7 div.sk-serial {\n",
       "  display: flex;\n",
       "  flex-direction: column;\n",
       "  align-items: center;\n",
       "  background-color: var(--sklearn-color-background);\n",
       "  padding-right: 1em;\n",
       "  padding-left: 1em;\n",
       "}\n",
       "\n",
       "\n",
       "/* Toggleable style: style used for estimator/Pipeline/ColumnTransformer box that is\n",
       "clickable and can be expanded/collapsed.\n",
       "- Pipeline and ColumnTransformer use this feature and define the default style\n",
       "- Estimators will overwrite some part of the style using the `sk-estimator` class\n",
       "*/\n",
       "\n",
       "/* Pipeline and ColumnTransformer style (default) */\n",
       "\n",
       "#sk-container-id-7 div.sk-toggleable {\n",
       "  /* Default theme specific background. It is overwritten whether we have a\n",
       "  specific estimator or a Pipeline/ColumnTransformer */\n",
       "  background-color: var(--sklearn-color-background);\n",
       "}\n",
       "\n",
       "/* Toggleable label */\n",
       "#sk-container-id-7 label.sk-toggleable__label {\n",
       "  cursor: pointer;\n",
       "  display: block;\n",
       "  width: 100%;\n",
       "  margin-bottom: 0;\n",
       "  padding: 0.5em;\n",
       "  box-sizing: border-box;\n",
       "  text-align: center;\n",
       "}\n",
       "\n",
       "#sk-container-id-7 label.sk-toggleable__label-arrow:before {\n",
       "  /* Arrow on the left of the label */\n",
       "  content: \"▸\";\n",
       "  float: left;\n",
       "  margin-right: 0.25em;\n",
       "  color: var(--sklearn-color-icon);\n",
       "}\n",
       "\n",
       "#sk-container-id-7 label.sk-toggleable__label-arrow:hover:before {\n",
       "  color: var(--sklearn-color-text);\n",
       "}\n",
       "\n",
       "/* Toggleable content - dropdown */\n",
       "\n",
       "#sk-container-id-7 div.sk-toggleable__content {\n",
       "  max-height: 0;\n",
       "  max-width: 0;\n",
       "  overflow: hidden;\n",
       "  text-align: left;\n",
       "  /* unfitted */\n",
       "  background-color: var(--sklearn-color-unfitted-level-0);\n",
       "}\n",
       "\n",
       "#sk-container-id-7 div.sk-toggleable__content.fitted {\n",
       "  /* fitted */\n",
       "  background-color: var(--sklearn-color-fitted-level-0);\n",
       "}\n",
       "\n",
       "#sk-container-id-7 div.sk-toggleable__content pre {\n",
       "  margin: 0.2em;\n",
       "  border-radius: 0.25em;\n",
       "  color: var(--sklearn-color-text);\n",
       "  /* unfitted */\n",
       "  background-color: var(--sklearn-color-unfitted-level-0);\n",
       "}\n",
       "\n",
       "#sk-container-id-7 div.sk-toggleable__content.fitted pre {\n",
       "  /* unfitted */\n",
       "  background-color: var(--sklearn-color-fitted-level-0);\n",
       "}\n",
       "\n",
       "#sk-container-id-7 input.sk-toggleable__control:checked~div.sk-toggleable__content {\n",
       "  /* Expand drop-down */\n",
       "  max-height: 200px;\n",
       "  max-width: 100%;\n",
       "  overflow: auto;\n",
       "}\n",
       "\n",
       "#sk-container-id-7 input.sk-toggleable__control:checked~label.sk-toggleable__label-arrow:before {\n",
       "  content: \"▾\";\n",
       "}\n",
       "\n",
       "/* Pipeline/ColumnTransformer-specific style */\n",
       "\n",
       "#sk-container-id-7 div.sk-label input.sk-toggleable__control:checked~label.sk-toggleable__label {\n",
       "  color: var(--sklearn-color-text);\n",
       "  background-color: var(--sklearn-color-unfitted-level-2);\n",
       "}\n",
       "\n",
       "#sk-container-id-7 div.sk-label.fitted input.sk-toggleable__control:checked~label.sk-toggleable__label {\n",
       "  background-color: var(--sklearn-color-fitted-level-2);\n",
       "}\n",
       "\n",
       "/* Estimator-specific style */\n",
       "\n",
       "/* Colorize estimator box */\n",
       "#sk-container-id-7 div.sk-estimator input.sk-toggleable__control:checked~label.sk-toggleable__label {\n",
       "  /* unfitted */\n",
       "  background-color: var(--sklearn-color-unfitted-level-2);\n",
       "}\n",
       "\n",
       "#sk-container-id-7 div.sk-estimator.fitted input.sk-toggleable__control:checked~label.sk-toggleable__label {\n",
       "  /* fitted */\n",
       "  background-color: var(--sklearn-color-fitted-level-2);\n",
       "}\n",
       "\n",
       "#sk-container-id-7 div.sk-label label.sk-toggleable__label,\n",
       "#sk-container-id-7 div.sk-label label {\n",
       "  /* The background is the default theme color */\n",
       "  color: var(--sklearn-color-text-on-default-background);\n",
       "}\n",
       "\n",
       "/* On hover, darken the color of the background */\n",
       "#sk-container-id-7 div.sk-label:hover label.sk-toggleable__label {\n",
       "  color: var(--sklearn-color-text);\n",
       "  background-color: var(--sklearn-color-unfitted-level-2);\n",
       "}\n",
       "\n",
       "/* Label box, darken color on hover, fitted */\n",
       "#sk-container-id-7 div.sk-label.fitted:hover label.sk-toggleable__label.fitted {\n",
       "  color: var(--sklearn-color-text);\n",
       "  background-color: var(--sklearn-color-fitted-level-2);\n",
       "}\n",
       "\n",
       "/* Estimator label */\n",
       "\n",
       "#sk-container-id-7 div.sk-label label {\n",
       "  font-family: monospace;\n",
       "  font-weight: bold;\n",
       "  display: inline-block;\n",
       "  line-height: 1.2em;\n",
       "}\n",
       "\n",
       "#sk-container-id-7 div.sk-label-container {\n",
       "  text-align: center;\n",
       "}\n",
       "\n",
       "/* Estimator-specific */\n",
       "#sk-container-id-7 div.sk-estimator {\n",
       "  font-family: monospace;\n",
       "  border: 1px dotted var(--sklearn-color-border-box);\n",
       "  border-radius: 0.25em;\n",
       "  box-sizing: border-box;\n",
       "  margin-bottom: 0.5em;\n",
       "  /* unfitted */\n",
       "  background-color: var(--sklearn-color-unfitted-level-0);\n",
       "}\n",
       "\n",
       "#sk-container-id-7 div.sk-estimator.fitted {\n",
       "  /* fitted */\n",
       "  background-color: var(--sklearn-color-fitted-level-0);\n",
       "}\n",
       "\n",
       "/* on hover */\n",
       "#sk-container-id-7 div.sk-estimator:hover {\n",
       "  /* unfitted */\n",
       "  background-color: var(--sklearn-color-unfitted-level-2);\n",
       "}\n",
       "\n",
       "#sk-container-id-7 div.sk-estimator.fitted:hover {\n",
       "  /* fitted */\n",
       "  background-color: var(--sklearn-color-fitted-level-2);\n",
       "}\n",
       "\n",
       "/* Specification for estimator info (e.g. \"i\" and \"?\") */\n",
       "\n",
       "/* Common style for \"i\" and \"?\" */\n",
       "\n",
       ".sk-estimator-doc-link,\n",
       "a:link.sk-estimator-doc-link,\n",
       "a:visited.sk-estimator-doc-link {\n",
       "  float: right;\n",
       "  font-size: smaller;\n",
       "  line-height: 1em;\n",
       "  font-family: monospace;\n",
       "  background-color: var(--sklearn-color-background);\n",
       "  border-radius: 1em;\n",
       "  height: 1em;\n",
       "  width: 1em;\n",
       "  text-decoration: none !important;\n",
       "  margin-left: 1ex;\n",
       "  /* unfitted */\n",
       "  border: var(--sklearn-color-unfitted-level-1) 1pt solid;\n",
       "  color: var(--sklearn-color-unfitted-level-1);\n",
       "}\n",
       "\n",
       ".sk-estimator-doc-link.fitted,\n",
       "a:link.sk-estimator-doc-link.fitted,\n",
       "a:visited.sk-estimator-doc-link.fitted {\n",
       "  /* fitted */\n",
       "  border: var(--sklearn-color-fitted-level-1) 1pt solid;\n",
       "  color: var(--sklearn-color-fitted-level-1);\n",
       "}\n",
       "\n",
       "/* On hover */\n",
       "div.sk-estimator:hover .sk-estimator-doc-link:hover,\n",
       ".sk-estimator-doc-link:hover,\n",
       "div.sk-label-container:hover .sk-estimator-doc-link:hover,\n",
       ".sk-estimator-doc-link:hover {\n",
       "  /* unfitted */\n",
       "  background-color: var(--sklearn-color-unfitted-level-3);\n",
       "  color: var(--sklearn-color-background);\n",
       "  text-decoration: none;\n",
       "}\n",
       "\n",
       "div.sk-estimator.fitted:hover .sk-estimator-doc-link.fitted:hover,\n",
       ".sk-estimator-doc-link.fitted:hover,\n",
       "div.sk-label-container:hover .sk-estimator-doc-link.fitted:hover,\n",
       ".sk-estimator-doc-link.fitted:hover {\n",
       "  /* fitted */\n",
       "  background-color: var(--sklearn-color-fitted-level-3);\n",
       "  color: var(--sklearn-color-background);\n",
       "  text-decoration: none;\n",
       "}\n",
       "\n",
       "/* Span, style for the box shown on hovering the info icon */\n",
       ".sk-estimator-doc-link span {\n",
       "  display: none;\n",
       "  z-index: 9999;\n",
       "  position: relative;\n",
       "  font-weight: normal;\n",
       "  right: .2ex;\n",
       "  padding: .5ex;\n",
       "  margin: .5ex;\n",
       "  width: min-content;\n",
       "  min-width: 20ex;\n",
       "  max-width: 50ex;\n",
       "  color: var(--sklearn-color-text);\n",
       "  box-shadow: 2pt 2pt 4pt #999;\n",
       "  /* unfitted */\n",
       "  background: var(--sklearn-color-unfitted-level-0);\n",
       "  border: .5pt solid var(--sklearn-color-unfitted-level-3);\n",
       "}\n",
       "\n",
       ".sk-estimator-doc-link.fitted span {\n",
       "  /* fitted */\n",
       "  background: var(--sklearn-color-fitted-level-0);\n",
       "  border: var(--sklearn-color-fitted-level-3);\n",
       "}\n",
       "\n",
       ".sk-estimator-doc-link:hover span {\n",
       "  display: block;\n",
       "}\n",
       "\n",
       "/* \"?\"-specific style due to the `<a>` HTML tag */\n",
       "\n",
       "#sk-container-id-7 a.estimator_doc_link {\n",
       "  float: right;\n",
       "  font-size: 1rem;\n",
       "  line-height: 1em;\n",
       "  font-family: monospace;\n",
       "  background-color: var(--sklearn-color-background);\n",
       "  border-radius: 1rem;\n",
       "  height: 1rem;\n",
       "  width: 1rem;\n",
       "  text-decoration: none;\n",
       "  /* unfitted */\n",
       "  color: var(--sklearn-color-unfitted-level-1);\n",
       "  border: var(--sklearn-color-unfitted-level-1) 1pt solid;\n",
       "}\n",
       "\n",
       "#sk-container-id-7 a.estimator_doc_link.fitted {\n",
       "  /* fitted */\n",
       "  border: var(--sklearn-color-fitted-level-1) 1pt solid;\n",
       "  color: var(--sklearn-color-fitted-level-1);\n",
       "}\n",
       "\n",
       "/* On hover */\n",
       "#sk-container-id-7 a.estimator_doc_link:hover {\n",
       "  /* unfitted */\n",
       "  background-color: var(--sklearn-color-unfitted-level-3);\n",
       "  color: var(--sklearn-color-background);\n",
       "  text-decoration: none;\n",
       "}\n",
       "\n",
       "#sk-container-id-7 a.estimator_doc_link.fitted:hover {\n",
       "  /* fitted */\n",
       "  background-color: var(--sklearn-color-fitted-level-3);\n",
       "}\n",
       "</style><div id=\"sk-container-id-7\" class=\"sk-top-container\"><div class=\"sk-text-repr-fallback\"><pre>RandomForestRegressor(max_depth=50, max_features=&#x27;sqrt&#x27;, n_estimators=1200,\n",
       "                      n_jobs=1, random_state=42)</pre><b>In a Jupyter environment, please rerun this cell to show the HTML representation or trust the notebook. <br />On GitHub, the HTML representation is unable to render, please try loading this page with nbviewer.org.</b></div><div class=\"sk-container\" hidden><div class=\"sk-item\"><div class=\"sk-estimator fitted sk-toggleable\"><input class=\"sk-toggleable__control sk-hidden--visually\" id=\"sk-estimator-id-12\" type=\"checkbox\" checked><label for=\"sk-estimator-id-12\" class=\"sk-toggleable__label fitted sk-toggleable__label-arrow fitted\">&nbsp;&nbsp;RandomForestRegressor<a class=\"sk-estimator-doc-link fitted\" rel=\"noreferrer\" target=\"_blank\" href=\"https://scikit-learn.org/1.5/modules/generated/sklearn.ensemble.RandomForestRegressor.html\">?<span>Documentation for RandomForestRegressor</span></a><span class=\"sk-estimator-doc-link fitted\">i<span>Fitted</span></span></label><div class=\"sk-toggleable__content fitted\"><pre>RandomForestRegressor(max_depth=50, max_features=&#x27;sqrt&#x27;, n_estimators=1200,\n",
       "                      n_jobs=1, random_state=42)</pre></div> </div></div></div></div>"
      ],
      "text/plain": [
       "RandomForestRegressor(max_depth=50, max_features='sqrt', n_estimators=1200,\n",
       "                      n_jobs=1, random_state=42)"
      ]
     },
     "execution_count": 31,
     "metadata": {},
     "output_type": "execute_result"
    }
   ],
   "source": [
    "forest.fit(X=train_df.drop(columns=[\"valor\"]), y=train_df.valor)"
   ]
  },
  {
   "cell_type": "code",
   "execution_count": 115,
   "metadata": {},
   "outputs": [],
   "source": [
    "def objective_rf(trial):\n",
    "    params = dict(\n",
    "        n_estimators=trial.suggest_int(name='n_estimators', low=1, high=1000),\n",
    "        max_depth=trial.suggest_int(name='max_depth', low=20, high=1000),\n",
    "        max_features='sqrt'\n",
    "        min_impurity_decrease=trial.suggest_float(name='min_impurity_decrease', low=1e-7, high=10, log=True),\n",
    "        random_state=42\n",
    "    )\n",
    "\n",
    "    model = ensemble.RandomForestRegressor(\n",
    "        **params,\n",
    "        n_jobs=3\n",
    "    )\n",
    "    model.fit(X=train_df.drop('valor', axis=1), y=train_df.valor)\n",
    "\n",
    "    cv_scores = np.exp(np.sqrt(-cross_val_score(\n",
    "        estimator=model,\n",
    "        X=train_df.drop(\"valor\", axis=1),\n",
    "        y=train_df.valor,\n",
    "        scoring=\"neg_mean_squared_error\",\n",
    "        n_jobs=3,\n",
    "        cv=KFold(n_splits=20))))\n",
    "\n",
    "    return np.mean(cv_scores)"
   ]
  },
  {
   "cell_type": "code",
   "execution_count": 15,
   "metadata": {},
   "outputs": [
    {
     "name": "stderr",
     "output_type": "stream",
     "text": [
      "[I 2024-06-10 06:56:39,761] A new study created in memory with name: no-name-fd28fe78-8d67-4af6-8a0e-89c85209e279\n",
      "[I 2024-06-10 06:58:09,411] Trial 0 finished with value: 1.2928082014110964 and parameters: {'n_estimators': 332, 'max_depth': 676, 'min_impurity_decrease': 1.335513326647804e-06}. Best is trial 0 with value: 1.2928082014110964.\n",
      "[I 2024-06-10 06:59:57,771] Trial 1 finished with value: 1.3212561835006036 and parameters: {'n_estimators': 637, 'max_depth': 499, 'min_impurity_decrease': 6.028001632581856e-05}. Best is trial 0 with value: 1.2928082014110964.\n",
      "[I 2024-06-10 07:00:32,404] Trial 2 finished with value: 1.7216743552488292 and parameters: {'n_estimators': 864, 'max_depth': 757, 'min_impurity_decrease': 0.12520837838688012}. Best is trial 0 with value: 1.2928082014110964.\n",
      "[I 2024-06-10 07:00:39,930] Trial 3 finished with value: 1.3112921769300194 and parameters: {'n_estimators': 37, 'max_depth': 151, 'min_impurity_decrease': 3.185968995257272e-05}. Best is trial 0 with value: 1.2928082014110964.\n",
      "[I 2024-06-10 07:01:18,763] Trial 4 finished with value: 1.332891378856534 and parameters: {'n_estimators': 243, 'max_depth': 974, 'min_impurity_decrease': 9.45970044794554e-05}. Best is trial 0 with value: 1.2928082014110964.\n",
      "[I 2024-06-10 07:02:31,088] Trial 5 finished with value: 1.2931414652743805 and parameters: {'n_estimators': 252, 'max_depth': 260, 'min_impurity_decrease': 4.771428302810857e-07}. Best is trial 0 with value: 1.2928082014110964.\n",
      "[I 2024-06-10 07:02:33,552] Trial 6 finished with value: 1.6504381578572116 and parameters: {'n_estimators': 43, 'max_depth': 787, 'min_impurity_decrease': 0.04266884416109264}. Best is trial 0 with value: 1.2928082014110964.\n",
      "[I 2024-06-10 07:02:48,021] Trial 7 finished with value: 1.5753826564083302 and parameters: {'n_estimators': 244, 'max_depth': 544, 'min_impurity_decrease': 0.01672354307499116}. Best is trial 0 with value: 1.2928082014110964.\n",
      "[I 2024-06-10 07:03:08,773] Trial 8 finished with value: 2.0153376456747516 and parameters: {'n_estimators': 871, 'max_depth': 665, 'min_impurity_decrease': 0.611300929429801}. Best is trial 0 with value: 1.2928082014110964.\n",
      "[I 2024-06-10 07:03:40,634] Trial 9 finished with value: 1.7204634701516333 and parameters: {'n_estimators': 775, 'max_depth': 447, 'min_impurity_decrease': 0.05432647158486279}. Best is trial 0 with value: 1.2928082014110964.\n",
      "[I 2024-06-10 07:06:04,224] Trial 10 finished with value: 1.2927624791365822 and parameters: {'n_estimators': 489, 'max_depth': 996, 'min_impurity_decrease': 2.165256259295356e-07}. Best is trial 10 with value: 1.2927624791365822.\n",
      "/home/cowvin/.cache/pypoetry/virtualenvs/scrapy-zap-SVflkDOc-py3.10/lib/python3.10/site-packages/joblib/externals/loky/process_executor.py:752: UserWarning: A worker stopped while some jobs were given to the executor. This can be caused by a too short worker timeout or by a memory leak.\n",
      "  warnings.warn(\n",
      "[I 2024-06-10 07:08:26,284] Trial 11 finished with value: 1.2928007938306103 and parameters: {'n_estimators': 480, 'max_depth': 992, 'min_impurity_decrease': 1.4863373061828792e-07}. Best is trial 10 with value: 1.2927624791365822.\n",
      "/home/cowvin/.cache/pypoetry/virtualenvs/scrapy-zap-SVflkDOc-py3.10/lib/python3.10/site-packages/joblib/externals/loky/process_executor.py:752: UserWarning: A worker stopped while some jobs were given to the executor. This can be caused by a too short worker timeout or by a memory leak.\n",
      "  warnings.warn(\n",
      "[I 2024-06-10 07:11:02,072] Trial 12 finished with value: 1.292647468873994 and parameters: {'n_estimators': 521, 'max_depth': 990, 'min_impurity_decrease': 1.0085211674558187e-07}. Best is trial 12 with value: 1.292647468873994.\n",
      "[I 2024-06-10 07:13:17,170] Trial 13 finished with value: 1.2930400805546554 and parameters: {'n_estimators': 529, 'max_depth': 881, 'min_impurity_decrease': 4.322433734054404e-06}. Best is trial 12 with value: 1.292647468873994.\n",
      "[I 2024-06-10 07:14:24,088] Trial 14 finished with value: 1.4215939387142034 and parameters: {'n_estimators': 644, 'max_depth': 864, 'min_impurity_decrease': 0.0014664472097295409}. Best is trial 12 with value: 1.292647468873994.\n",
      "[I 2024-06-10 07:16:14,930] Trial 15 finished with value: 1.294504573906274 and parameters: {'n_estimators': 457, 'max_depth': 340, 'min_impurity_decrease': 7.638227266304246e-06}. Best is trial 12 with value: 1.292647468873994.\n",
      "/home/cowvin/.cache/pypoetry/virtualenvs/scrapy-zap-SVflkDOc-py3.10/lib/python3.10/site-packages/joblib/externals/loky/process_executor.py:752: UserWarning: A worker stopped while some jobs were given to the executor. This can be caused by a too short worker timeout or by a memory leak.\n",
      "  warnings.warn(\n",
      "[I 2024-06-10 07:21:18,533] Trial 16 finished with value: 1.2925264607692162 and parameters: {'n_estimators': 998, 'max_depth': 30, 'min_impurity_decrease': 1.0798405913253816e-07}. Best is trial 16 with value: 1.2925264607692162.\n",
      "[I 2024-06-10 07:23:00,496] Trial 17 finished with value: 1.4171207362393408 and parameters: {'n_estimators': 962, 'max_depth': 178, 'min_impurity_decrease': 0.0013634842449045319}. Best is trial 16 with value: 1.2925264607692162.\n",
      "/home/cowvin/.cache/pypoetry/virtualenvs/scrapy-zap-SVflkDOc-py3.10/lib/python3.10/site-packages/joblib/externals/loky/process_executor.py:752: UserWarning: A worker stopped while some jobs were given to the executor. This can be caused by a too short worker timeout or by a memory leak.\n",
      "  warnings.warn(\n",
      "[I 2024-06-10 07:26:05,359] Trial 18 finished with value: 1.2925851297941378 and parameters: {'n_estimators': 694, 'max_depth': 60, 'min_impurity_decrease': 2.597851410542393e-06}. Best is trial 16 with value: 1.2925264607692162.\n",
      "/home/cowvin/.cache/pypoetry/virtualenvs/scrapy-zap-SVflkDOc-py3.10/lib/python3.10/site-packages/joblib/externals/loky/process_executor.py:752: UserWarning: A worker stopped while some jobs were given to the executor. This can be caused by a too short worker timeout or by a memory leak.\n",
      "  warnings.warn(\n",
      "[I 2024-06-10 07:30:20,983] Trial 19 finished with value: 1.2923601136475251 and parameters: {'n_estimators': 977, 'max_depth': 20, 'min_impurity_decrease': 1.9799045784582823e-06}. Best is trial 19 with value: 1.2923601136475251.\n",
      "[I 2024-06-10 07:33:54,703] Trial 20 finished with value: 1.3004994033541313 and parameters: {'n_estimators': 1000, 'max_depth': 23, 'min_impurity_decrease': 1.856662888790906e-05}. Best is trial 19 with value: 1.2923601136475251.\n",
      "/home/cowvin/.cache/pypoetry/virtualenvs/scrapy-zap-SVflkDOc-py3.10/lib/python3.10/site-packages/joblib/externals/loky/process_executor.py:752: UserWarning: A worker stopped while some jobs were given to the executor. This can be caused by a too short worker timeout or by a memory leak.\n",
      "  warnings.warn(\n",
      "[I 2024-06-10 07:37:11,494] Trial 21 finished with value: 1.2925919057962496 and parameters: {'n_estimators': 753, 'max_depth': 32, 'min_impurity_decrease': 3.264112547272575e-06}. Best is trial 19 with value: 1.2923601136475251.\n",
      "/home/cowvin/.cache/pypoetry/virtualenvs/scrapy-zap-SVflkDOc-py3.10/lib/python3.10/site-packages/joblib/externals/loky/process_executor.py:752: UserWarning: A worker stopped while some jobs were given to the executor. This can be caused by a too short worker timeout or by a memory leak.\n",
      "  warnings.warn(\n",
      "[I 2024-06-10 07:41:21,108] Trial 22 finished with value: 1.2923662708266483 and parameters: {'n_estimators': 882, 'max_depth': 107, 'min_impurity_decrease': 8.758687847269314e-07}. Best is trial 19 with value: 1.2923601136475251.\n",
      "/home/cowvin/.cache/pypoetry/virtualenvs/scrapy-zap-SVflkDOc-py3.10/lib/python3.10/site-packages/joblib/externals/loky/process_executor.py:752: UserWarning: A worker stopped while some jobs were given to the executor. This can be caused by a too short worker timeout or by a memory leak.\n",
      "  warnings.warn(\n",
      "[I 2024-06-10 07:45:37,854] Trial 23 finished with value: 1.2924243219575453 and parameters: {'n_estimators': 895, 'max_depth': 149, 'min_impurity_decrease': 5.977175551765932e-07}. Best is trial 19 with value: 1.2923601136475251.\n",
      "[I 2024-06-10 07:47:49,236] Trial 24 finished with value: 1.3455026075869352 and parameters: {'n_estimators': 882, 'max_depth': 178, 'min_impurity_decrease': 0.00015072406714898272}. Best is trial 19 with value: 1.2923601136475251.\n",
      "/home/cowvin/.cache/pypoetry/virtualenvs/scrapy-zap-SVflkDOc-py3.10/lib/python3.10/site-packages/joblib/externals/loky/process_executor.py:752: UserWarning: A worker stopped while some jobs were given to the executor. This can be caused by a too short worker timeout or by a memory leak.\n",
      "  warnings.warn(\n",
      "[I 2024-06-10 07:51:40,250] Trial 25 finished with value: 1.2925076280678571 and parameters: {'n_estimators': 819, 'max_depth': 285, 'min_impurity_decrease': 8.817367999006745e-07}. Best is trial 19 with value: 1.2923601136475251.\n",
      "[I 2024-06-10 07:53:35,656] Trial 26 finished with value: 1.375602798660196 and parameters: {'n_estimators': 910, 'max_depth': 123, 'min_impurity_decrease': 0.00042954064350732995}. Best is trial 19 with value: 1.2923601136475251.\n",
      "[I 2024-06-10 07:53:53,285] Trial 27 finished with value: 2.0153373234731764 and parameters: {'n_estimators': 746, 'max_depth': 250, 'min_impurity_decrease': 5.912670814327148}. Best is trial 19 with value: 1.2923601136475251.\n",
      "[I 2024-06-10 07:57:19,042] Trial 28 finished with value: 1.2980535958779587 and parameters: {'n_estimators': 928, 'max_depth': 388, 'min_impurity_decrease': 1.4375419705947167e-05}. Best is trial 19 with value: 1.2923601136475251.\n",
      "/home/cowvin/.cache/pypoetry/virtualenvs/scrapy-zap-SVflkDOc-py3.10/lib/python3.10/site-packages/joblib/externals/loky/process_executor.py:752: UserWarning: A worker stopped while some jobs were given to the executor. This can be caused by a too short worker timeout or by a memory leak.\n",
      "  warnings.warn(\n",
      "[I 2024-06-10 08:01:12,277] Trial 29 finished with value: 1.2925174614532082 and parameters: {'n_estimators': 817, 'max_depth': 108, 'min_impurity_decrease': 6.579155836219501e-07}. Best is trial 19 with value: 1.2923601136475251.\n",
      "[I 2024-06-10 08:04:03,210] Trial 30 finished with value: 1.292437419172071 and parameters: {'n_estimators': 621, 'max_depth': 236, 'min_impurity_decrease': 1.324363682644168e-06}. Best is trial 19 with value: 1.2923601136475251.\n",
      "[I 2024-06-10 08:06:52,035] Trial 31 finished with value: 1.29251527709812 and parameters: {'n_estimators': 611, 'max_depth': 96, 'min_impurity_decrease': 1.3420308511572386e-06}. Best is trial 19 with value: 1.2923601136475251.\n",
      "/home/cowvin/.cache/pypoetry/virtualenvs/scrapy-zap-SVflkDOc-py3.10/lib/python3.10/site-packages/joblib/externals/loky/process_executor.py:752: UserWarning: A worker stopped while some jobs were given to the executor. This can be caused by a too short worker timeout or by a memory leak.\n",
      "  warnings.warn(\n",
      "[I 2024-06-10 08:08:41,643] Trial 32 finished with value: 1.292813392826252 and parameters: {'n_estimators': 382, 'max_depth': 222, 'min_impurity_decrease': 5.292301892933468e-07}. Best is trial 19 with value: 1.2923601136475251.\n",
      "/home/cowvin/.cache/pypoetry/virtualenvs/scrapy-zap-SVflkDOc-py3.10/lib/python3.10/site-packages/joblib/externals/loky/process_executor.py:752: UserWarning: A worker stopped while some jobs were given to the executor. This can be caused by a too short worker timeout or by a memory leak.\n",
      "  warnings.warn(\n",
      "[I 2024-06-10 08:12:20,922] Trial 33 finished with value: 1.292328946465136 and parameters: {'n_estimators': 812, 'max_depth': 315, 'min_impurity_decrease': 1.8976756140535332e-06}. Best is trial 33 with value: 1.292328946465136.\n",
      "[I 2024-06-10 08:15:15,229] Trial 34 finished with value: 1.3135011710031597 and parameters: {'n_estimators': 939, 'max_depth': 346, 'min_impurity_decrease': 4.222449433936214e-05}. Best is trial 33 with value: 1.292328946465136.\n",
      "[I 2024-06-10 08:18:35,448] Trial 35 finished with value: 1.2946458609361897 and parameters: {'n_estimators': 846, 'max_depth': 195, 'min_impurity_decrease': 8.5874397335227e-06}. Best is trial 33 with value: 1.292328946465136.\n",
      "[I 2024-06-10 08:20:14,327] Trial 36 finished with value: 1.3538377957911476 and parameters: {'n_estimators': 697, 'max_depth': 135, 'min_impurity_decrease': 0.00020031794349983472}. Best is trial 33 with value: 1.292328946465136.\n",
      "/home/cowvin/.cache/pypoetry/virtualenvs/scrapy-zap-SVflkDOc-py3.10/lib/python3.10/site-packages/joblib/externals/loky/process_executor.py:752: UserWarning: A worker stopped while some jobs were given to the executor. This can be caused by a too short worker timeout or by a memory leak.\n",
      "  warnings.warn(\n",
      "[I 2024-06-10 08:24:11,385] Trial 37 finished with value: 1.2924862091768732 and parameters: {'n_estimators': 806, 'max_depth': 305, 'min_impurity_decrease': 3.0265482253651045e-07}. Best is trial 33 with value: 1.292328946465136.\n",
      "[I 2024-06-10 08:28:08,965] Trial 38 finished with value: 1.292329003337866 and parameters: {'n_estimators': 879, 'max_depth': 533, 'min_impurity_decrease': 2.0241633518352285e-06}. Best is trial 33 with value: 1.292328946465136.\n",
      "[I 2024-06-10 08:31:06,937] Trial 39 finished with value: 1.2929122277805623 and parameters: {'n_estimators': 695, 'max_depth': 621, 'min_impurity_decrease': 3.9761665928280265e-06}. Best is trial 33 with value: 1.292328946465136.\n",
      "[I 2024-06-10 08:33:59,645] Trial 40 finished with value: 1.3162793573720633 and parameters: {'n_estimators': 956, 'max_depth': 544, 'min_impurity_decrease': 4.827641766232602e-05}. Best is trial 33 with value: 1.292328946465136.\n",
      "/home/cowvin/.cache/pypoetry/virtualenvs/scrapy-zap-SVflkDOc-py3.10/lib/python3.10/site-packages/joblib/externals/loky/process_executor.py:752: UserWarning: A worker stopped while some jobs were given to the executor. This can be caused by a too short worker timeout or by a memory leak.\n",
      "  warnings.warn(\n",
      "[I 2024-06-10 08:38:03,142] Trial 41 finished with value: 1.2923679267021018 and parameters: {'n_estimators': 886, 'max_depth': 457, 'min_impurity_decrease': 1.535581545053616e-06}. Best is trial 33 with value: 1.292328946465136.\n",
      "[I 2024-06-10 08:41:52,688] Trial 42 finished with value: 1.2924241039352862 and parameters: {'n_estimators': 860, 'max_depth': 458, 'min_impurity_decrease': 2.4592731736231917e-06}. Best is trial 33 with value: 1.292328946465136.\n",
      "[I 2024-06-10 08:42:23,327] Trial 43 finished with value: 1.2942073192713615 and parameters: {'n_estimators': 111, 'max_depth': 505, 'min_impurity_decrease': 1.5874537419297017e-06}. Best is trial 33 with value: 1.292328946465136.\n",
      "[I 2024-06-10 08:45:23,392] Trial 44 finished with value: 1.2955488441665204 and parameters: {'n_estimators': 775, 'max_depth': 604, 'min_impurity_decrease': 1.015278002597706e-05}. Best is trial 33 with value: 1.292328946465136.\n",
      "/home/cowvin/.cache/pypoetry/virtualenvs/scrapy-zap-SVflkDOc-py3.10/lib/python3.10/site-packages/joblib/externals/loky/process_executor.py:752: UserWarning: A worker stopped while some jobs were given to the executor. This can be caused by a too short worker timeout or by a memory leak.\n",
      "  warnings.warn(\n",
      "[I 2024-06-10 08:49:59,185] Trial 45 finished with value: 1.292466737366007 and parameters: {'n_estimators': 923, 'max_depth': 561, 'min_impurity_decrease': 2.929482406214686e-07}. Best is trial 33 with value: 1.292328946465136.\n",
      "[I 2024-06-10 08:51:03,301] Trial 46 finished with value: 1.5137868806329655 and parameters: {'n_estimators': 854, 'max_depth': 439, 'min_impurity_decrease': 0.0067120527560910566}. Best is trial 33 with value: 1.292328946465136.\n",
      "[I 2024-06-10 08:54:23,057] Trial 47 finished with value: 1.3048408398252829 and parameters: {'n_estimators': 985, 'max_depth': 702, 'min_impurity_decrease': 2.5796333358974636e-05}. Best is trial 33 with value: 1.292328946465136.\n",
      "[I 2024-06-10 08:57:24,084] Trial 48 finished with value: 1.2936983144613556 and parameters: {'n_estimators': 731, 'max_depth': 403, 'min_impurity_decrease': 6.149478160747026e-06}. Best is trial 33 with value: 1.292328946465136.\n",
      "/home/cowvin/.cache/pypoetry/virtualenvs/scrapy-zap-SVflkDOc-py3.10/lib/python3.10/site-packages/joblib/externals/loky/process_executor.py:752: UserWarning: A worker stopped while some jobs were given to the executor. This can be caused by a too short worker timeout or by a memory leak.\n",
      "  warnings.warn(\n",
      "[I 2024-06-10 09:01:24,079] Trial 49 finished with value: 1.292543522254196 and parameters: {'n_estimators': 802, 'max_depth': 466, 'min_impurity_decrease': 2.2983310329498417e-07}. Best is trial 33 with value: 1.292328946465136.\n",
      "[I 2024-06-10 09:02:58,724] Trial 50 finished with value: 1.3311146969349188 and parameters: {'n_estimators': 562, 'max_depth': 78, 'min_impurity_decrease': 8.912903861628169e-05}. Best is trial 33 with value: 1.292328946465136.\n",
      "/home/cowvin/.cache/pypoetry/virtualenvs/scrapy-zap-SVflkDOc-py3.10/lib/python3.10/site-packages/joblib/externals/loky/process_executor.py:752: UserWarning: A worker stopped while some jobs were given to the executor. This can be caused by a too short worker timeout or by a memory leak.\n",
      "  warnings.warn(\n",
      "[I 2024-06-10 09:06:52,077] Trial 51 finished with value: 1.2924489730593092 and parameters: {'n_estimators': 852, 'max_depth': 484, 'min_impurity_decrease': 2.3173786903979255e-06}. Best is trial 33 with value: 1.292328946465136.\n",
      "/home/cowvin/.cache/pypoetry/virtualenvs/scrapy-zap-SVflkDOc-py3.10/lib/python3.10/site-packages/joblib/externals/loky/process_executor.py:752: UserWarning: A worker stopped while some jobs were given to the executor. This can be caused by a too short worker timeout or by a memory leak.\n",
      "  warnings.warn(\n",
      "[I 2024-06-10 09:11:00,784] Trial 52 finished with value: 1.2923166839384659 and parameters: {'n_estimators': 889, 'max_depth': 398, 'min_impurity_decrease': 1.3815893045039605e-06}. Best is trial 52 with value: 1.2923166839384659.\n",
      "/home/cowvin/.cache/pypoetry/virtualenvs/scrapy-zap-SVflkDOc-py3.10/lib/python3.10/site-packages/joblib/externals/loky/process_executor.py:752: UserWarning: A worker stopped while some jobs were given to the executor. This can be caused by a too short worker timeout or by a memory leak.\n",
      "  warnings.warn(\n",
      "[I 2024-06-10 09:15:18,750] Trial 53 finished with value: 1.2923138339245197 and parameters: {'n_estimators': 899, 'max_depth': 397, 'min_impurity_decrease': 9.236624543118509e-07}. Best is trial 53 with value: 1.2923138339245197.\n",
      "/home/cowvin/.cache/pypoetry/virtualenvs/scrapy-zap-SVflkDOc-py3.10/lib/python3.10/site-packages/joblib/externals/loky/process_executor.py:752: UserWarning: A worker stopped while some jobs were given to the executor. This can be caused by a too short worker timeout or by a memory leak.\n",
      "  warnings.warn(\n",
      "[I 2024-06-10 09:20:06,615] Trial 54 finished with value: 1.292508499336171 and parameters: {'n_estimators': 960, 'max_depth': 391, 'min_impurity_decrease': 3.727996663345355e-07}. Best is trial 53 with value: 1.2923138339245197.\n",
      "/home/cowvin/.cache/pypoetry/virtualenvs/scrapy-zap-SVflkDOc-py3.10/lib/python3.10/site-packages/joblib/externals/loky/process_executor.py:752: UserWarning: A worker stopped while some jobs were given to the executor. This can be caused by a too short worker timeout or by a memory leak.\n",
      "  warnings.warn(\n",
      "[I 2024-06-10 09:24:25,265] Trial 55 finished with value: 1.2924699103129624 and parameters: {'n_estimators': 902, 'max_depth': 335, 'min_impurity_decrease': 8.014258982876668e-07}. Best is trial 53 with value: 1.2923138339245197.\n",
      "[I 2024-06-10 09:28:23,097] Trial 56 finished with value: 1.2925299173316085 and parameters: {'n_estimators': 784, 'max_depth': 290, 'min_impurity_decrease': 1.5904854315178978e-07}. Best is trial 53 with value: 1.2923138339245197.\n",
      "[I 2024-06-10 09:32:31,087] Trial 57 finished with value: 1.293084686240141 and parameters: {'n_estimators': 971, 'max_depth': 421, 'min_impurity_decrease': 4.870184887056006e-06}. Best is trial 53 with value: 1.2923138339245197.\n",
      "[I 2024-06-10 09:32:51,788] Trial 58 finished with value: 2.015337543831206 and parameters: {'n_estimators': 832, 'max_depth': 517, 'min_impurity_decrease': 0.21754268317663936}. Best is trial 53 with value: 1.2923138339245197.\n",
      "[I 2024-06-10 09:36:18,172] Trial 59 finished with value: 1.2981546954356182 and parameters: {'n_estimators': 929, 'max_depth': 366, 'min_impurity_decrease': 1.4672106584602741e-05}. Best is trial 53 with value: 1.2923138339245197.\n",
      "/home/cowvin/.cache/pypoetry/virtualenvs/scrapy-zap-SVflkDOc-py3.10/lib/python3.10/site-packages/joblib/externals/loky/process_executor.py:752: UserWarning: A worker stopped while some jobs were given to the executor. This can be caused by a too short worker timeout or by a memory leak.\n",
      "  warnings.warn(\n",
      "[I 2024-06-10 09:40:31,891] Trial 60 finished with value: 1.2924103562142086 and parameters: {'n_estimators': 885, 'max_depth': 49, 'min_impurity_decrease': 7.430939879339859e-07}. Best is trial 53 with value: 1.2923138339245197.\n",
      "/home/cowvin/.cache/pypoetry/virtualenvs/scrapy-zap-SVflkDOc-py3.10/lib/python3.10/site-packages/joblib/externals/loky/process_executor.py:752: UserWarning: A worker stopped while some jobs were given to the executor. This can be caused by a too short worker timeout or by a memory leak.\n",
      "  warnings.warn(\n",
      "[I 2024-06-10 09:44:38,067] Trial 61 finished with value: 1.2924576779850225 and parameters: {'n_estimators': 882, 'max_depth': 581, 'min_impurity_decrease': 1.5832945456041142e-06}. Best is trial 53 with value: 1.2923138339245197.\n",
      "/home/cowvin/.cache/pypoetry/virtualenvs/scrapy-zap-SVflkDOc-py3.10/lib/python3.10/site-packages/joblib/externals/loky/process_executor.py:752: UserWarning: A worker stopped while some jobs were given to the executor. This can be caused by a too short worker timeout or by a memory leak.\n",
      "  warnings.warn(\n",
      "[I 2024-06-10 09:48:41,220] Trial 62 finished with value: 1.2924708976940134 and parameters: {'n_estimators': 910, 'max_depth': 521, 'min_impurity_decrease': 2.7384189669570336e-06}. Best is trial 53 with value: 1.2923138339245197.\n",
      "/home/cowvin/.cache/pypoetry/virtualenvs/scrapy-zap-SVflkDOc-py3.10/lib/python3.10/site-packages/joblib/externals/loky/process_executor.py:752: UserWarning: A worker stopped while some jobs were given to the executor. This can be caused by a too short worker timeout or by a memory leak.\n",
      "  warnings.warn(\n",
      "[I 2024-06-10 09:53:52,691] Trial 63 finished with value: 1.2924144391813543 and parameters: {'n_estimators': 998, 'max_depth': 314, 'min_impurity_decrease': 1.0599838300119987e-07}. Best is trial 53 with value: 1.2923138339245197.\n",
      "[I 2024-06-10 09:58:21,566] Trial 64 finished with value: 1.29242097509038 and parameters: {'n_estimators': 953, 'max_depth': 423, 'min_impurity_decrease': 1.0772863538678102e-06}. Best is trial 53 with value: 1.2923138339245197.\n",
      "/home/cowvin/.cache/pypoetry/virtualenvs/scrapy-zap-SVflkDOc-py3.10/lib/python3.10/site-packages/joblib/externals/loky/process_executor.py:752: UserWarning: A worker stopped while some jobs were given to the executor. This can be caused by a too short worker timeout or by a memory leak.\n",
      "  warnings.warn(\n",
      "[I 2024-06-10 10:01:56,882] Trial 65 finished with value: 1.2925560907781404 and parameters: {'n_estimators': 729, 'max_depth': 663, 'min_impurity_decrease': 4.259460630884091e-07}. Best is trial 53 with value: 1.2923138339245197.\n",
      "[I 2024-06-10 10:04:47,327] Trial 66 finished with value: 1.304927210636977 and parameters: {'n_estimators': 831, 'max_depth': 368, 'min_impurity_decrease': 2.578420076463993e-05}. Best is trial 53 with value: 1.2923138339245197.\n",
      "[I 2024-06-10 10:08:30,622] Trial 67 finished with value: 1.2935635367407603 and parameters: {'n_estimators': 889, 'max_depth': 480, 'min_impurity_decrease': 6.213091255250591e-06}. Best is trial 53 with value: 1.2923138339245197.\n",
      "[I 2024-06-10 10:10:21,510] Trial 68 finished with value: 1.292720064142273 and parameters: {'n_estimators': 408, 'max_depth': 271, 'min_impurity_decrease': 1.9455960536259836e-06}. Best is trial 53 with value: 1.2923138339245197.\n",
      "[I 2024-06-10 10:14:13,828] Trial 69 finished with value: 1.292493946099111 and parameters: {'n_estimators': 765, 'max_depth': 208, 'min_impurity_decrease': 1.8991898347545006e-07}. Best is trial 53 with value: 1.2923138339245197.\n",
      "[I 2024-06-10 10:17:18,640] Trial 70 finished with value: 1.2924453778494347 and parameters: {'n_estimators': 654, 'max_depth': 78, 'min_impurity_decrease': 1.0462927420590488e-06}. Best is trial 53 with value: 1.2923138339245197.\n",
      "[I 2024-06-10 10:21:32,638] Trial 71 finished with value: 1.2923588190157946 and parameters: {'n_estimators': 868, 'max_depth': 36, 'min_impurity_decrease': 6.433045355258696e-07}. Best is trial 53 with value: 1.2923138339245197.\n",
      "/home/cowvin/.cache/pypoetry/virtualenvs/scrapy-zap-SVflkDOc-py3.10/lib/python3.10/site-packages/joblib/externals/loky/process_executor.py:752: UserWarning: A worker stopped while some jobs were given to the executor. This can be caused by a too short worker timeout or by a memory leak.\n",
      "  warnings.warn(\n",
      "[I 2024-06-10 10:25:47,474] Trial 72 finished with value: 1.2923474884905848 and parameters: {'n_estimators': 868, 'max_depth': 45, 'min_impurity_decrease': 5.946751823098783e-07}. Best is trial 53 with value: 1.2923138339245197.\n",
      "/home/cowvin/.cache/pypoetry/virtualenvs/scrapy-zap-SVflkDOc-py3.10/lib/python3.10/site-packages/joblib/externals/loky/process_executor.py:752: UserWarning: A worker stopped while some jobs were given to the executor. This can be caused by a too short worker timeout or by a memory leak.\n",
      "  warnings.warn(\n",
      "[I 2024-06-10 10:29:46,897] Trial 73 finished with value: 1.2925311967791582 and parameters: {'n_estimators': 805, 'max_depth': 168, 'min_impurity_decrease': 3.8307877495590925e-07}. Best is trial 53 with value: 1.2923138339245197.\n",
      "[I 2024-06-10 10:33:47,651] Trial 74 finished with value: 1.2927827834570316 and parameters: {'n_estimators': 941, 'max_depth': 21, 'min_impurity_decrease': 4.02981225943843e-06}. Best is trial 53 with value: 1.2923138339245197.\n",
      "/home/cowvin/.cache/pypoetry/virtualenvs/scrapy-zap-SVflkDOc-py3.10/lib/python3.10/site-packages/joblib/externals/loky/process_executor.py:752: UserWarning: A worker stopped while some jobs were given to the executor. This can be caused by a too short worker timeout or by a memory leak.\n",
      "  warnings.warn(\n",
      "[I 2024-06-10 10:37:59,674] Trial 75 finished with value: 1.2924121337108687 and parameters: {'n_estimators': 864, 'max_depth': 105, 'min_impurity_decrease': 5.762165919688517e-07}. Best is trial 53 with value: 1.2923138339245197.\n",
      "[I 2024-06-10 10:41:37,305] Trial 76 finished with value: 1.2955457876588403 and parameters: {'n_estimators': 915, 'max_depth': 59, 'min_impurity_decrease': 1.026922147777587e-05}. Best is trial 53 with value: 1.2923138339245197.\n",
      "/home/cowvin/.cache/pypoetry/virtualenvs/scrapy-zap-SVflkDOc-py3.10/lib/python3.10/site-packages/joblib/externals/loky/process_executor.py:752: UserWarning: A worker stopped while some jobs were given to the executor. This can be caused by a too short worker timeout or by a memory leak.\n",
      "  warnings.warn(\n",
      "[I 2024-06-10 10:45:28,936] Trial 77 finished with value: 1.2924667916895272 and parameters: {'n_estimators': 832, 'max_depth': 81, 'min_impurity_decrease': 9.59599062176012e-07}. Best is trial 53 with value: 1.2923138339245197.\n",
      "[I 2024-06-10 10:46:51,028] Trial 78 finished with value: 1.4715039768621732 and parameters: {'n_estimators': 973, 'max_depth': 123, 'min_impurity_decrease': 0.0036514368859570934}. Best is trial 53 with value: 1.2923138339245197.\n",
      "[I 2024-06-10 10:46:56,134] Trial 79 finished with value: 2.015339329573744 and parameters: {'n_estimators': 188, 'max_depth': 152, 'min_impurity_decrease': 9.584969138440272}. Best is trial 53 with value: 1.2923138339245197.\n",
      "/home/cowvin/.cache/pypoetry/virtualenvs/scrapy-zap-SVflkDOc-py3.10/lib/python3.10/site-packages/joblib/externals/loky/process_executor.py:752: UserWarning: A worker stopped while some jobs were given to the executor. This can be caused by a too short worker timeout or by a memory leak.\n",
      "  warnings.warn(\n",
      "[I 2024-06-10 10:50:21,239] Trial 80 finished with value: 1.2926170040268379 and parameters: {'n_estimators': 789, 'max_depth': 46, 'min_impurity_decrease': 3.1364605389793346e-06}. Best is trial 53 with value: 1.2923138339245197.\n",
      "[I 2024-06-10 10:54:13,686] Trial 81 finished with value: 1.2921067514829638 and parameters: {'n_estimators': 869, 'max_depth': 23, 'min_impurity_decrease': 1.599599918931528e-06}. Best is trial 81 with value: 1.2921067514829638.\n",
      "/home/cowvin/.cache/pypoetry/virtualenvs/scrapy-zap-SVflkDOc-py3.10/lib/python3.10/site-packages/joblib/externals/loky/process_executor.py:752: UserWarning: A worker stopped while some jobs were given to the executor. This can be caused by a too short worker timeout or by a memory leak.\n",
      "  warnings.warn(\n",
      "[I 2024-06-10 10:58:16,776] Trial 82 finished with value: 1.2919585611027722 and parameters: {'n_estimators': 865, 'max_depth': 22, 'min_impurity_decrease': 5.081949379202151e-07}. Best is trial 82 with value: 1.2919585611027722.\n",
      "/home/cowvin/.cache/pypoetry/virtualenvs/scrapy-zap-SVflkDOc-py3.10/lib/python3.10/site-packages/joblib/externals/loky/process_executor.py:752: UserWarning: A worker stopped while some jobs were given to the executor. This can be caused by a too short worker timeout or by a memory leak.\n",
      "  warnings.warn(\n",
      "[I 2024-06-10 11:02:34,299] Trial 83 finished with value: 1.2925571000460798 and parameters: {'n_estimators': 860, 'max_depth': 45, 'min_impurity_decrease': 2.14818947041934e-07}. Best is trial 82 with value: 1.2919585611027722.\n",
      "/home/cowvin/.cache/pypoetry/virtualenvs/scrapy-zap-SVflkDOc-py3.10/lib/python3.10/site-packages/joblib/externals/loky/process_executor.py:752: UserWarning: A worker stopped while some jobs were given to the executor. This can be caused by a too short worker timeout or by a memory leak.\n",
      "  warnings.warn(\n",
      "[I 2024-06-10 11:07:04,968] Trial 84 finished with value: 1.2924358936858151 and parameters: {'n_estimators': 931, 'max_depth': 75, 'min_impurity_decrease': 3.85052411953976e-07}. Best is trial 82 with value: 1.2919585611027722.\n",
      "[I 2024-06-10 11:10:49,039] Trial 85 finished with value: 1.292494102712101 and parameters: {'n_estimators': 836, 'max_depth': 37, 'min_impurity_decrease': 2.3077187954957193e-06}. Best is trial 82 with value: 1.2919585611027722.\n",
      "[I 2024-06-10 11:10:51,863] Trial 86 finished with value: 1.3189180565939391 and parameters: {'n_estimators': 7, 'max_depth': 840, 'min_impurity_decrease': 5.994606010569879e-07}. Best is trial 82 with value: 1.2919585611027722.\n",
      "[I 2024-06-10 11:15:03,656] Trial 87 finished with value: 1.292376938762406 and parameters: {'n_estimators': 909, 'max_depth': 130, 'min_impurity_decrease': 1.1999179135673014e-06}. Best is trial 82 with value: 1.2919585611027722.\n",
      "[I 2024-06-10 11:15:21,252] Trial 88 finished with value: 2.0153371140218117 and parameters: {'n_estimators': 734, 'max_depth': 92, 'min_impurity_decrease': 2.0375547412894828}. Best is trial 82 with value: 1.2919585611027722.\n",
      "[I 2024-06-10 11:18:59,687] Trial 89 finished with value: 1.2929619322916672 and parameters: {'n_estimators': 867, 'max_depth': 21, 'min_impurity_decrease': 4.157268981449883e-06}. Best is trial 82 with value: 1.2919585611027722.\n",
      "/home/cowvin/.cache/pypoetry/virtualenvs/scrapy-zap-SVflkDOc-py3.10/lib/python3.10/site-packages/joblib/externals/loky/process_executor.py:752: UserWarning: A worker stopped while some jobs were given to the executor. This can be caused by a too short worker timeout or by a memory leak.\n",
      "  warnings.warn(\n",
      "[I 2024-06-10 11:23:02,387] Trial 90 finished with value: 1.292532137887562 and parameters: {'n_estimators': 809, 'max_depth': 238, 'min_impurity_decrease': 2.7833058988431854e-07}. Best is trial 82 with value: 1.2919585611027722.\n",
      "/home/cowvin/.cache/pypoetry/virtualenvs/scrapy-zap-SVflkDOc-py3.10/lib/python3.10/site-packages/joblib/externals/loky/process_executor.py:752: UserWarning: A worker stopped while some jobs were given to the executor. This can be caused by a too short worker timeout or by a memory leak.\n",
      "  warnings.warn(\n",
      "[I 2024-06-10 11:27:22,244] Trial 91 finished with value: 1.2924884162959 and parameters: {'n_estimators': 893, 'max_depth': 108, 'min_impurity_decrease': 5.891533726857124e-07}. Best is trial 82 with value: 1.2919585611027722.\n",
      "/home/cowvin/.cache/pypoetry/virtualenvs/scrapy-zap-SVflkDOc-py3.10/lib/python3.10/site-packages/joblib/externals/loky/process_executor.py:752: UserWarning: A worker stopped while some jobs were given to the executor. This can be caused by a too short worker timeout or by a memory leak.\n",
      "  warnings.warn(\n",
      "[I 2024-06-10 11:31:39,005] Trial 92 finished with value: 1.2923613229967588 and parameters: {'n_estimators': 943, 'max_depth': 55, 'min_impurity_decrease': 1.6402984161941975e-06}. Best is trial 82 with value: 1.2919585611027722.\n",
      "/home/cowvin/.cache/pypoetry/virtualenvs/scrapy-zap-SVflkDOc-py3.10/lib/python3.10/site-packages/joblib/externals/loky/process_executor.py:752: UserWarning: A worker stopped while some jobs were given to the executor. This can be caused by a too short worker timeout or by a memory leak.\n",
      "  warnings.warn(\n",
      "[I 2024-06-10 11:36:00,064] Trial 93 finished with value: 1.2923426305832824 and parameters: {'n_estimators': 952, 'max_depth': 63, 'min_impurity_decrease': 1.607729431436789e-06}. Best is trial 82 with value: 1.2919585611027722.\n",
      "/home/cowvin/.cache/pypoetry/virtualenvs/scrapy-zap-SVflkDOc-py3.10/lib/python3.10/site-packages/joblib/externals/loky/process_executor.py:752: UserWarning: A worker stopped while some jobs were given to the executor. This can be caused by a too short worker timeout or by a memory leak.\n",
      "  warnings.warn(\n",
      "[I 2024-06-10 11:40:07,990] Trial 94 finished with value: 1.293392464571323 and parameters: {'n_estimators': 1000, 'max_depth': 69, 'min_impurity_decrease': 5.685148528533358e-06}. Best is trial 82 with value: 1.2919585611027722.\n",
      "/home/cowvin/.cache/pypoetry/virtualenvs/scrapy-zap-SVflkDOc-py3.10/lib/python3.10/site-packages/joblib/externals/loky/process_executor.py:752: UserWarning: A worker stopped while some jobs were given to the executor. This can be caused by a too short worker timeout or by a memory leak.\n",
      "  warnings.warn(\n",
      "[I 2024-06-10 11:45:04,568] Trial 95 finished with value: 1.29251218164153 and parameters: {'n_estimators': 978, 'max_depth': 161, 'min_impurity_decrease': 1.3104500394957608e-07}. Best is trial 82 with value: 1.2919585611027722.\n",
      "/home/cowvin/.cache/pypoetry/virtualenvs/scrapy-zap-SVflkDOc-py3.10/lib/python3.10/site-packages/joblib/externals/loky/process_executor.py:752: UserWarning: A worker stopped while some jobs were given to the executor. This can be caused by a too short worker timeout or by a memory leak.\n",
      "  warnings.warn(\n",
      "[I 2024-06-10 11:49:16,794] Trial 96 finished with value: 1.2925267564918639 and parameters: {'n_estimators': 951, 'max_depth': 28, 'min_impurity_decrease': 2.974466664642881e-06}. Best is trial 82 with value: 1.2919585611027722.\n",
      "/home/cowvin/.cache/pypoetry/virtualenvs/scrapy-zap-SVflkDOc-py3.10/lib/python3.10/site-packages/joblib/externals/loky/process_executor.py:752: UserWarning: A worker stopped while some jobs were given to the executor. This can be caused by a too short worker timeout or by a memory leak.\n",
      "  warnings.warn(\n",
      "[I 2024-06-10 11:52:41,839] Trial 97 finished with value: 1.2952858953072517 and parameters: {'n_estimators': 871, 'max_depth': 198, 'min_impurity_decrease': 9.655210129503366e-06}. Best is trial 82 with value: 1.2919585611027722.\n",
      "/home/cowvin/.cache/pypoetry/virtualenvs/scrapy-zap-SVflkDOc-py3.10/lib/python3.10/site-packages/joblib/externals/loky/process_executor.py:752: UserWarning: A worker stopped while some jobs were given to the executor. This can be caused by a too short worker timeout or by a memory leak.\n",
      "  warnings.warn(\n",
      "[I 2024-06-10 11:57:07,711] Trial 98 finished with value: 1.2923895771203988 and parameters: {'n_estimators': 924, 'max_depth': 135, 'min_impurity_decrease': 7.534301362454844e-07}. Best is trial 82 with value: 1.2919585611027722.\n",
      "[I 2024-06-10 12:01:13,174] Trial 99 finished with value: 1.2923806619712914 and parameters: {'n_estimators': 900, 'max_depth': 545, 'min_impurity_decrease': 1.6043453141123302e-06}. Best is trial 82 with value: 1.2919585611027722.\n"
     ]
    }
   ],
   "source": [
    "study = optuna.create_study(direction=\"minimize\")\n",
    "study.optimize(objective_rf, n_trials=100)"
   ]
  },
  {
   "cell_type": "code",
   "execution_count": 37,
   "metadata": {},
   "outputs": [
    {
     "data": {
      "application/vnd.plotly.v1+json": {
       "config": {
        "plotlyServerURL": "https://plot.ly"
       },
       "data": [
        {
         "cliponaxis": false,
         "hovertemplate": [
          "n_estimators (IntDistribution): 0.029979573115160217<extra></extra>",
          "max_depth (IntDistribution): 0.18202443965313592<extra></extra>",
          "min_impurity_decrease (FloatDistribution): 0.7879959872317039<extra></extra>"
         ],
         "name": "Objective Value",
         "orientation": "h",
         "text": [
          "0.03",
          "0.18",
          "0.79"
         ],
         "textposition": "outside",
         "type": "bar",
         "x": [
          0.029979573115160217,
          0.18202443965313592,
          0.7879959872317039
         ],
         "y": [
          "n_estimators",
          "max_depth",
          "min_impurity_decrease"
         ]
        }
       ],
       "layout": {
        "template": {
         "data": {
          "bar": [
           {
            "error_x": {
             "color": "#2a3f5f"
            },
            "error_y": {
             "color": "#2a3f5f"
            },
            "marker": {
             "line": {
              "color": "#E5ECF6",
              "width": 0.5
             },
             "pattern": {
              "fillmode": "overlay",
              "size": 10,
              "solidity": 0.2
             }
            },
            "type": "bar"
           }
          ],
          "barpolar": [
           {
            "marker": {
             "line": {
              "color": "#E5ECF6",
              "width": 0.5
             },
             "pattern": {
              "fillmode": "overlay",
              "size": 10,
              "solidity": 0.2
             }
            },
            "type": "barpolar"
           }
          ],
          "carpet": [
           {
            "aaxis": {
             "endlinecolor": "#2a3f5f",
             "gridcolor": "white",
             "linecolor": "white",
             "minorgridcolor": "white",
             "startlinecolor": "#2a3f5f"
            },
            "baxis": {
             "endlinecolor": "#2a3f5f",
             "gridcolor": "white",
             "linecolor": "white",
             "minorgridcolor": "white",
             "startlinecolor": "#2a3f5f"
            },
            "type": "carpet"
           }
          ],
          "choropleth": [
           {
            "colorbar": {
             "outlinewidth": 0,
             "ticks": ""
            },
            "type": "choropleth"
           }
          ],
          "contour": [
           {
            "colorbar": {
             "outlinewidth": 0,
             "ticks": ""
            },
            "colorscale": [
             [
              0,
              "#0d0887"
             ],
             [
              0.1111111111111111,
              "#46039f"
             ],
             [
              0.2222222222222222,
              "#7201a8"
             ],
             [
              0.3333333333333333,
              "#9c179e"
             ],
             [
              0.4444444444444444,
              "#bd3786"
             ],
             [
              0.5555555555555556,
              "#d8576b"
             ],
             [
              0.6666666666666666,
              "#ed7953"
             ],
             [
              0.7777777777777778,
              "#fb9f3a"
             ],
             [
              0.8888888888888888,
              "#fdca26"
             ],
             [
              1,
              "#f0f921"
             ]
            ],
            "type": "contour"
           }
          ],
          "contourcarpet": [
           {
            "colorbar": {
             "outlinewidth": 0,
             "ticks": ""
            },
            "type": "contourcarpet"
           }
          ],
          "heatmap": [
           {
            "colorbar": {
             "outlinewidth": 0,
             "ticks": ""
            },
            "colorscale": [
             [
              0,
              "#0d0887"
             ],
             [
              0.1111111111111111,
              "#46039f"
             ],
             [
              0.2222222222222222,
              "#7201a8"
             ],
             [
              0.3333333333333333,
              "#9c179e"
             ],
             [
              0.4444444444444444,
              "#bd3786"
             ],
             [
              0.5555555555555556,
              "#d8576b"
             ],
             [
              0.6666666666666666,
              "#ed7953"
             ],
             [
              0.7777777777777778,
              "#fb9f3a"
             ],
             [
              0.8888888888888888,
              "#fdca26"
             ],
             [
              1,
              "#f0f921"
             ]
            ],
            "type": "heatmap"
           }
          ],
          "heatmapgl": [
           {
            "colorbar": {
             "outlinewidth": 0,
             "ticks": ""
            },
            "colorscale": [
             [
              0,
              "#0d0887"
             ],
             [
              0.1111111111111111,
              "#46039f"
             ],
             [
              0.2222222222222222,
              "#7201a8"
             ],
             [
              0.3333333333333333,
              "#9c179e"
             ],
             [
              0.4444444444444444,
              "#bd3786"
             ],
             [
              0.5555555555555556,
              "#d8576b"
             ],
             [
              0.6666666666666666,
              "#ed7953"
             ],
             [
              0.7777777777777778,
              "#fb9f3a"
             ],
             [
              0.8888888888888888,
              "#fdca26"
             ],
             [
              1,
              "#f0f921"
             ]
            ],
            "type": "heatmapgl"
           }
          ],
          "histogram": [
           {
            "marker": {
             "pattern": {
              "fillmode": "overlay",
              "size": 10,
              "solidity": 0.2
             }
            },
            "type": "histogram"
           }
          ],
          "histogram2d": [
           {
            "colorbar": {
             "outlinewidth": 0,
             "ticks": ""
            },
            "colorscale": [
             [
              0,
              "#0d0887"
             ],
             [
              0.1111111111111111,
              "#46039f"
             ],
             [
              0.2222222222222222,
              "#7201a8"
             ],
             [
              0.3333333333333333,
              "#9c179e"
             ],
             [
              0.4444444444444444,
              "#bd3786"
             ],
             [
              0.5555555555555556,
              "#d8576b"
             ],
             [
              0.6666666666666666,
              "#ed7953"
             ],
             [
              0.7777777777777778,
              "#fb9f3a"
             ],
             [
              0.8888888888888888,
              "#fdca26"
             ],
             [
              1,
              "#f0f921"
             ]
            ],
            "type": "histogram2d"
           }
          ],
          "histogram2dcontour": [
           {
            "colorbar": {
             "outlinewidth": 0,
             "ticks": ""
            },
            "colorscale": [
             [
              0,
              "#0d0887"
             ],
             [
              0.1111111111111111,
              "#46039f"
             ],
             [
              0.2222222222222222,
              "#7201a8"
             ],
             [
              0.3333333333333333,
              "#9c179e"
             ],
             [
              0.4444444444444444,
              "#bd3786"
             ],
             [
              0.5555555555555556,
              "#d8576b"
             ],
             [
              0.6666666666666666,
              "#ed7953"
             ],
             [
              0.7777777777777778,
              "#fb9f3a"
             ],
             [
              0.8888888888888888,
              "#fdca26"
             ],
             [
              1,
              "#f0f921"
             ]
            ],
            "type": "histogram2dcontour"
           }
          ],
          "mesh3d": [
           {
            "colorbar": {
             "outlinewidth": 0,
             "ticks": ""
            },
            "type": "mesh3d"
           }
          ],
          "parcoords": [
           {
            "line": {
             "colorbar": {
              "outlinewidth": 0,
              "ticks": ""
             }
            },
            "type": "parcoords"
           }
          ],
          "pie": [
           {
            "automargin": true,
            "type": "pie"
           }
          ],
          "scatter": [
           {
            "fillpattern": {
             "fillmode": "overlay",
             "size": 10,
             "solidity": 0.2
            },
            "type": "scatter"
           }
          ],
          "scatter3d": [
           {
            "line": {
             "colorbar": {
              "outlinewidth": 0,
              "ticks": ""
             }
            },
            "marker": {
             "colorbar": {
              "outlinewidth": 0,
              "ticks": ""
             }
            },
            "type": "scatter3d"
           }
          ],
          "scattercarpet": [
           {
            "marker": {
             "colorbar": {
              "outlinewidth": 0,
              "ticks": ""
             }
            },
            "type": "scattercarpet"
           }
          ],
          "scattergeo": [
           {
            "marker": {
             "colorbar": {
              "outlinewidth": 0,
              "ticks": ""
             }
            },
            "type": "scattergeo"
           }
          ],
          "scattergl": [
           {
            "marker": {
             "colorbar": {
              "outlinewidth": 0,
              "ticks": ""
             }
            },
            "type": "scattergl"
           }
          ],
          "scattermapbox": [
           {
            "marker": {
             "colorbar": {
              "outlinewidth": 0,
              "ticks": ""
             }
            },
            "type": "scattermapbox"
           }
          ],
          "scatterpolar": [
           {
            "marker": {
             "colorbar": {
              "outlinewidth": 0,
              "ticks": ""
             }
            },
            "type": "scatterpolar"
           }
          ],
          "scatterpolargl": [
           {
            "marker": {
             "colorbar": {
              "outlinewidth": 0,
              "ticks": ""
             }
            },
            "type": "scatterpolargl"
           }
          ],
          "scatterternary": [
           {
            "marker": {
             "colorbar": {
              "outlinewidth": 0,
              "ticks": ""
             }
            },
            "type": "scatterternary"
           }
          ],
          "surface": [
           {
            "colorbar": {
             "outlinewidth": 0,
             "ticks": ""
            },
            "colorscale": [
             [
              0,
              "#0d0887"
             ],
             [
              0.1111111111111111,
              "#46039f"
             ],
             [
              0.2222222222222222,
              "#7201a8"
             ],
             [
              0.3333333333333333,
              "#9c179e"
             ],
             [
              0.4444444444444444,
              "#bd3786"
             ],
             [
              0.5555555555555556,
              "#d8576b"
             ],
             [
              0.6666666666666666,
              "#ed7953"
             ],
             [
              0.7777777777777778,
              "#fb9f3a"
             ],
             [
              0.8888888888888888,
              "#fdca26"
             ],
             [
              1,
              "#f0f921"
             ]
            ],
            "type": "surface"
           }
          ],
          "table": [
           {
            "cells": {
             "fill": {
              "color": "#EBF0F8"
             },
             "line": {
              "color": "white"
             }
            },
            "header": {
             "fill": {
              "color": "#C8D4E3"
             },
             "line": {
              "color": "white"
             }
            },
            "type": "table"
           }
          ]
         },
         "layout": {
          "annotationdefaults": {
           "arrowcolor": "#2a3f5f",
           "arrowhead": 0,
           "arrowwidth": 1
          },
          "autotypenumbers": "strict",
          "coloraxis": {
           "colorbar": {
            "outlinewidth": 0,
            "ticks": ""
           }
          },
          "colorscale": {
           "diverging": [
            [
             0,
             "#8e0152"
            ],
            [
             0.1,
             "#c51b7d"
            ],
            [
             0.2,
             "#de77ae"
            ],
            [
             0.3,
             "#f1b6da"
            ],
            [
             0.4,
             "#fde0ef"
            ],
            [
             0.5,
             "#f7f7f7"
            ],
            [
             0.6,
             "#e6f5d0"
            ],
            [
             0.7,
             "#b8e186"
            ],
            [
             0.8,
             "#7fbc41"
            ],
            [
             0.9,
             "#4d9221"
            ],
            [
             1,
             "#276419"
            ]
           ],
           "sequential": [
            [
             0,
             "#0d0887"
            ],
            [
             0.1111111111111111,
             "#46039f"
            ],
            [
             0.2222222222222222,
             "#7201a8"
            ],
            [
             0.3333333333333333,
             "#9c179e"
            ],
            [
             0.4444444444444444,
             "#bd3786"
            ],
            [
             0.5555555555555556,
             "#d8576b"
            ],
            [
             0.6666666666666666,
             "#ed7953"
            ],
            [
             0.7777777777777778,
             "#fb9f3a"
            ],
            [
             0.8888888888888888,
             "#fdca26"
            ],
            [
             1,
             "#f0f921"
            ]
           ],
           "sequentialminus": [
            [
             0,
             "#0d0887"
            ],
            [
             0.1111111111111111,
             "#46039f"
            ],
            [
             0.2222222222222222,
             "#7201a8"
            ],
            [
             0.3333333333333333,
             "#9c179e"
            ],
            [
             0.4444444444444444,
             "#bd3786"
            ],
            [
             0.5555555555555556,
             "#d8576b"
            ],
            [
             0.6666666666666666,
             "#ed7953"
            ],
            [
             0.7777777777777778,
             "#fb9f3a"
            ],
            [
             0.8888888888888888,
             "#fdca26"
            ],
            [
             1,
             "#f0f921"
            ]
           ]
          },
          "colorway": [
           "#636efa",
           "#EF553B",
           "#00cc96",
           "#ab63fa",
           "#FFA15A",
           "#19d3f3",
           "#FF6692",
           "#B6E880",
           "#FF97FF",
           "#FECB52"
          ],
          "font": {
           "color": "#2a3f5f"
          },
          "geo": {
           "bgcolor": "white",
           "lakecolor": "white",
           "landcolor": "#E5ECF6",
           "showlakes": true,
           "showland": true,
           "subunitcolor": "white"
          },
          "hoverlabel": {
           "align": "left"
          },
          "hovermode": "closest",
          "mapbox": {
           "style": "light"
          },
          "paper_bgcolor": "white",
          "plot_bgcolor": "#E5ECF6",
          "polar": {
           "angularaxis": {
            "gridcolor": "white",
            "linecolor": "white",
            "ticks": ""
           },
           "bgcolor": "#E5ECF6",
           "radialaxis": {
            "gridcolor": "white",
            "linecolor": "white",
            "ticks": ""
           }
          },
          "scene": {
           "xaxis": {
            "backgroundcolor": "#E5ECF6",
            "gridcolor": "white",
            "gridwidth": 2,
            "linecolor": "white",
            "showbackground": true,
            "ticks": "",
            "zerolinecolor": "white"
           },
           "yaxis": {
            "backgroundcolor": "#E5ECF6",
            "gridcolor": "white",
            "gridwidth": 2,
            "linecolor": "white",
            "showbackground": true,
            "ticks": "",
            "zerolinecolor": "white"
           },
           "zaxis": {
            "backgroundcolor": "#E5ECF6",
            "gridcolor": "white",
            "gridwidth": 2,
            "linecolor": "white",
            "showbackground": true,
            "ticks": "",
            "zerolinecolor": "white"
           }
          },
          "shapedefaults": {
           "line": {
            "color": "#2a3f5f"
           }
          },
          "ternary": {
           "aaxis": {
            "gridcolor": "white",
            "linecolor": "white",
            "ticks": ""
           },
           "baxis": {
            "gridcolor": "white",
            "linecolor": "white",
            "ticks": ""
           },
           "bgcolor": "#E5ECF6",
           "caxis": {
            "gridcolor": "white",
            "linecolor": "white",
            "ticks": ""
           }
          },
          "title": {
           "x": 0.05
          },
          "xaxis": {
           "automargin": true,
           "gridcolor": "white",
           "linecolor": "white",
           "ticks": "",
           "title": {
            "standoff": 15
           },
           "zerolinecolor": "white",
           "zerolinewidth": 2
          },
          "yaxis": {
           "automargin": true,
           "gridcolor": "white",
           "linecolor": "white",
           "ticks": "",
           "title": {
            "standoff": 15
           },
           "zerolinecolor": "white",
           "zerolinewidth": 2
          }
         }
        },
        "title": {
         "text": ""
        },
        "xaxis": {
         "title": {
          "text": "Importância dos Hiperparâmetros"
         }
        },
        "yaxis": {
         "title": {
          "text": "Hiperparâmetros"
         }
        }
       }
      }
     },
     "metadata": {},
     "output_type": "display_data"
    }
   ],
   "source": [
    "plot = optuna.visualization.plot_param_importances(study)\n",
    "plot.update_layout(\n",
    "    title=\"\",\n",
    "    xaxis_title=\"Importância dos Hiperparâmetros\",\n",
    "    yaxis_title=\"Hiperparâmetros\"\n",
    ")"
   ]
  },
  {
   "cell_type": "code",
   "execution_count": null,
   "metadata": {},
   "outputs": [],
   "source": []
  },
  {
   "cell_type": "code",
   "execution_count": null,
   "metadata": {},
   "outputs": [],
   "source": []
  }
 ],
 "metadata": {
  "kernelspec": {
   "display_name": "Python 3",
   "language": "python",
   "name": "python3"
  },
  "language_info": {
   "codemirror_mode": {
    "name": "ipython",
    "version": 3
   },
   "file_extension": ".py",
   "mimetype": "text/x-python",
   "name": "python",
   "nbconvert_exporter": "python",
   "pygments_lexer": "ipython3",
   "version": "3.10.12"
  }
 },
 "nbformat": 4,
 "nbformat_minor": 2
}
